{
  "cells": [
    {
      "cell_type": "markdown",
      "metadata": {
        "id": "Vla1vJaHb2rh"
      },
      "source": []
    },
    {
      "cell_type": "code",
      "execution_count": null,
      "metadata": {
        "colab": {
          "base_uri": "https://localhost:8080/"
        },
        "id": "REU_SiUxYsfC",
        "outputId": "b3ba1e23-9c30-4d08-818a-e3716d7af1f9"
      },
      "outputs": [
        {
          "output_type": "stream",
          "name": "stdout",
          "text": [
            "Dataset URL: https://www.kaggle.com/datasets/gauravduttakiit/wind-turbine-power-generation-forecasting\n",
            "License(s): CC0-1.0\n",
            "Downloading wind-turbine-power-generation-forecasting.zip to /content/wind_turbine\n",
            " 86% 10.0M/11.7M [00:00<00:00, 47.6MB/s]\n",
            "100% 11.7M/11.7M [00:00<00:00, 42.9MB/s]\n",
            "Archive:  wind-turbine-power-generation-forecasting.zip\n",
            "  inflating: Dataset/Submission.csv  \n",
            "  inflating: Dataset/Test.csv        \n",
            "  inflating: Dataset/Train.xlsx      \n"
          ]
        }
      ],
      "source": [
        "from google.colab import userdata\n",
        "import os\n",
        "import pandas as pd\n",
        "\n",
        "os.environ[\"KAGGLE_KEY\"] =\"b87a7e7c9200003c849318af61908a0b\"\n",
        "os.environ[\"KAGGLE_USERNAME\"] =\"sshreya22\"\n",
        "!kaggle datasets download -d gauravduttakiit/wind-turbine-power-generation-forecasting\n",
        "! unzip \"wind-turbine-power-generation-forecasting.zip\""
      ]
    },
    {
      "cell_type": "code",
      "execution_count": 8,
      "metadata": {
        "id": "SVYQ6rUvWd6B"
      },
      "outputs": [],
      "source": [
        "df = pd.read_csv(\"/content/wind_turbine/Dataset/Test.csv\")"
      ]
    },
    {
      "cell_type": "code",
      "execution_count": 9,
      "metadata": {
        "id": "shfxZJQFdrxt",
        "colab": {
          "base_uri": "https://localhost:8080/",
          "height": 363
        },
        "outputId": "bccfbe52-72f0-40f8-fc5d-ac845cfc79e3"
      },
      "outputs": [
        {
          "output_type": "execute_result",
          "data": {
            "text/plain": [
              "   Unnamed: 0           Time  Location  Temp_2m  RelHum_2m      DP_2m  \\\n",
              "0       35040  01/01/17 0:00         1  19.6796  89.664205  17.072595   \n",
              "1       35041  01/01/17 1:00         1  19.1796  90.664205  16.672595   \n",
              "2       35042  01/01/17 2:00         1  19.5796  88.664205  16.672595   \n",
              "3       35043  01/01/17 3:00         1  20.3796  85.664205  16.572595   \n",
              "4       35044  01/01/17 4:00         1  21.0796  82.664205  16.572595   \n",
              "5       35045  01/01/17 5:00         1  21.2796  83.664205  16.972595   \n",
              "6       35046  01/01/17 6:00         1  18.8796  89.664205  16.172595   \n",
              "7       35047  01/01/17 7:00         1  21.5796  87.664205  18.272595   \n",
              "8       35048  01/01/17 8:00         1  25.0796  80.664205  19.972595   \n",
              "9       35049  01/01/17 9:00         1  30.2796  73.664205  22.672595   \n",
              "\n",
              "     WS_10m   WS_100m      WD_10m     WD_100m    WG_10m  \n",
              "0  1.085389  0.867799  192.051683  233.057315  1.636515  \n",
              "1  1.665389  1.907799  183.051683  197.057315  2.736515  \n",
              "2  1.845389  2.867799  162.051683  167.057315  2.736515  \n",
              "3  2.325389  3.987799  166.051683  161.057315  2.936515  \n",
              "4  2.265389  4.047799  182.051683  170.057315  3.136515  \n",
              "5  2.265389  3.937799  176.051683  172.057315  2.736515  \n",
              "6  2.565389  3.577799  134.051683  161.057315  3.536515  \n",
              "7  2.385389  3.767799   81.051683  114.057315  3.436515  \n",
              "8  3.105389  5.497799   79.051683   99.057315  4.736515  \n",
              "9  3.485389  6.297799  105.051683  107.057315  5.936515  "
            ],
            "text/html": [
              "\n",
              "  <div id=\"df-8570b066-447e-4e70-aa7c-b8c5ded03b03\" class=\"colab-df-container\">\n",
              "    <div>\n",
              "<style scoped>\n",
              "    .dataframe tbody tr th:only-of-type {\n",
              "        vertical-align: middle;\n",
              "    }\n",
              "\n",
              "    .dataframe tbody tr th {\n",
              "        vertical-align: top;\n",
              "    }\n",
              "\n",
              "    .dataframe thead th {\n",
              "        text-align: right;\n",
              "    }\n",
              "</style>\n",
              "<table border=\"1\" class=\"dataframe\">\n",
              "  <thead>\n",
              "    <tr style=\"text-align: right;\">\n",
              "      <th></th>\n",
              "      <th>Unnamed: 0</th>\n",
              "      <th>Time</th>\n",
              "      <th>Location</th>\n",
              "      <th>Temp_2m</th>\n",
              "      <th>RelHum_2m</th>\n",
              "      <th>DP_2m</th>\n",
              "      <th>WS_10m</th>\n",
              "      <th>WS_100m</th>\n",
              "      <th>WD_10m</th>\n",
              "      <th>WD_100m</th>\n",
              "      <th>WG_10m</th>\n",
              "    </tr>\n",
              "  </thead>\n",
              "  <tbody>\n",
              "    <tr>\n",
              "      <th>0</th>\n",
              "      <td>35040</td>\n",
              "      <td>01/01/17 0:00</td>\n",
              "      <td>1</td>\n",
              "      <td>19.6796</td>\n",
              "      <td>89.664205</td>\n",
              "      <td>17.072595</td>\n",
              "      <td>1.085389</td>\n",
              "      <td>0.867799</td>\n",
              "      <td>192.051683</td>\n",
              "      <td>233.057315</td>\n",
              "      <td>1.636515</td>\n",
              "    </tr>\n",
              "    <tr>\n",
              "      <th>1</th>\n",
              "      <td>35041</td>\n",
              "      <td>01/01/17 1:00</td>\n",
              "      <td>1</td>\n",
              "      <td>19.1796</td>\n",
              "      <td>90.664205</td>\n",
              "      <td>16.672595</td>\n",
              "      <td>1.665389</td>\n",
              "      <td>1.907799</td>\n",
              "      <td>183.051683</td>\n",
              "      <td>197.057315</td>\n",
              "      <td>2.736515</td>\n",
              "    </tr>\n",
              "    <tr>\n",
              "      <th>2</th>\n",
              "      <td>35042</td>\n",
              "      <td>01/01/17 2:00</td>\n",
              "      <td>1</td>\n",
              "      <td>19.5796</td>\n",
              "      <td>88.664205</td>\n",
              "      <td>16.672595</td>\n",
              "      <td>1.845389</td>\n",
              "      <td>2.867799</td>\n",
              "      <td>162.051683</td>\n",
              "      <td>167.057315</td>\n",
              "      <td>2.736515</td>\n",
              "    </tr>\n",
              "    <tr>\n",
              "      <th>3</th>\n",
              "      <td>35043</td>\n",
              "      <td>01/01/17 3:00</td>\n",
              "      <td>1</td>\n",
              "      <td>20.3796</td>\n",
              "      <td>85.664205</td>\n",
              "      <td>16.572595</td>\n",
              "      <td>2.325389</td>\n",
              "      <td>3.987799</td>\n",
              "      <td>166.051683</td>\n",
              "      <td>161.057315</td>\n",
              "      <td>2.936515</td>\n",
              "    </tr>\n",
              "    <tr>\n",
              "      <th>4</th>\n",
              "      <td>35044</td>\n",
              "      <td>01/01/17 4:00</td>\n",
              "      <td>1</td>\n",
              "      <td>21.0796</td>\n",
              "      <td>82.664205</td>\n",
              "      <td>16.572595</td>\n",
              "      <td>2.265389</td>\n",
              "      <td>4.047799</td>\n",
              "      <td>182.051683</td>\n",
              "      <td>170.057315</td>\n",
              "      <td>3.136515</td>\n",
              "    </tr>\n",
              "    <tr>\n",
              "      <th>5</th>\n",
              "      <td>35045</td>\n",
              "      <td>01/01/17 5:00</td>\n",
              "      <td>1</td>\n",
              "      <td>21.2796</td>\n",
              "      <td>83.664205</td>\n",
              "      <td>16.972595</td>\n",
              "      <td>2.265389</td>\n",
              "      <td>3.937799</td>\n",
              "      <td>176.051683</td>\n",
              "      <td>172.057315</td>\n",
              "      <td>2.736515</td>\n",
              "    </tr>\n",
              "    <tr>\n",
              "      <th>6</th>\n",
              "      <td>35046</td>\n",
              "      <td>01/01/17 6:00</td>\n",
              "      <td>1</td>\n",
              "      <td>18.8796</td>\n",
              "      <td>89.664205</td>\n",
              "      <td>16.172595</td>\n",
              "      <td>2.565389</td>\n",
              "      <td>3.577799</td>\n",
              "      <td>134.051683</td>\n",
              "      <td>161.057315</td>\n",
              "      <td>3.536515</td>\n",
              "    </tr>\n",
              "    <tr>\n",
              "      <th>7</th>\n",
              "      <td>35047</td>\n",
              "      <td>01/01/17 7:00</td>\n",
              "      <td>1</td>\n",
              "      <td>21.5796</td>\n",
              "      <td>87.664205</td>\n",
              "      <td>18.272595</td>\n",
              "      <td>2.385389</td>\n",
              "      <td>3.767799</td>\n",
              "      <td>81.051683</td>\n",
              "      <td>114.057315</td>\n",
              "      <td>3.436515</td>\n",
              "    </tr>\n",
              "    <tr>\n",
              "      <th>8</th>\n",
              "      <td>35048</td>\n",
              "      <td>01/01/17 8:00</td>\n",
              "      <td>1</td>\n",
              "      <td>25.0796</td>\n",
              "      <td>80.664205</td>\n",
              "      <td>19.972595</td>\n",
              "      <td>3.105389</td>\n",
              "      <td>5.497799</td>\n",
              "      <td>79.051683</td>\n",
              "      <td>99.057315</td>\n",
              "      <td>4.736515</td>\n",
              "    </tr>\n",
              "    <tr>\n",
              "      <th>9</th>\n",
              "      <td>35049</td>\n",
              "      <td>01/01/17 9:00</td>\n",
              "      <td>1</td>\n",
              "      <td>30.2796</td>\n",
              "      <td>73.664205</td>\n",
              "      <td>22.672595</td>\n",
              "      <td>3.485389</td>\n",
              "      <td>6.297799</td>\n",
              "      <td>105.051683</td>\n",
              "      <td>107.057315</td>\n",
              "      <td>5.936515</td>\n",
              "    </tr>\n",
              "  </tbody>\n",
              "</table>\n",
              "</div>\n",
              "    <div class=\"colab-df-buttons\">\n",
              "\n",
              "  <div class=\"colab-df-container\">\n",
              "    <button class=\"colab-df-convert\" onclick=\"convertToInteractive('df-8570b066-447e-4e70-aa7c-b8c5ded03b03')\"\n",
              "            title=\"Convert this dataframe to an interactive table.\"\n",
              "            style=\"display:none;\">\n",
              "\n",
              "  <svg xmlns=\"http://www.w3.org/2000/svg\" height=\"24px\" viewBox=\"0 -960 960 960\">\n",
              "    <path d=\"M120-120v-720h720v720H120Zm60-500h600v-160H180v160Zm220 220h160v-160H400v160Zm0 220h160v-160H400v160ZM180-400h160v-160H180v160Zm440 0h160v-160H620v160ZM180-180h160v-160H180v160Zm440 0h160v-160H620v160Z\"/>\n",
              "  </svg>\n",
              "    </button>\n",
              "\n",
              "  <style>\n",
              "    .colab-df-container {\n",
              "      display:flex;\n",
              "      gap: 12px;\n",
              "    }\n",
              "\n",
              "    .colab-df-convert {\n",
              "      background-color: #E8F0FE;\n",
              "      border: none;\n",
              "      border-radius: 50%;\n",
              "      cursor: pointer;\n",
              "      display: none;\n",
              "      fill: #1967D2;\n",
              "      height: 32px;\n",
              "      padding: 0 0 0 0;\n",
              "      width: 32px;\n",
              "    }\n",
              "\n",
              "    .colab-df-convert:hover {\n",
              "      background-color: #E2EBFA;\n",
              "      box-shadow: 0px 1px 2px rgba(60, 64, 67, 0.3), 0px 1px 3px 1px rgba(60, 64, 67, 0.15);\n",
              "      fill: #174EA6;\n",
              "    }\n",
              "\n",
              "    .colab-df-buttons div {\n",
              "      margin-bottom: 4px;\n",
              "    }\n",
              "\n",
              "    [theme=dark] .colab-df-convert {\n",
              "      background-color: #3B4455;\n",
              "      fill: #D2E3FC;\n",
              "    }\n",
              "\n",
              "    [theme=dark] .colab-df-convert:hover {\n",
              "      background-color: #434B5C;\n",
              "      box-shadow: 0px 1px 3px 1px rgba(0, 0, 0, 0.15);\n",
              "      filter: drop-shadow(0px 1px 2px rgba(0, 0, 0, 0.3));\n",
              "      fill: #FFFFFF;\n",
              "    }\n",
              "  </style>\n",
              "\n",
              "    <script>\n",
              "      const buttonEl =\n",
              "        document.querySelector('#df-8570b066-447e-4e70-aa7c-b8c5ded03b03 button.colab-df-convert');\n",
              "      buttonEl.style.display =\n",
              "        google.colab.kernel.accessAllowed ? 'block' : 'none';\n",
              "\n",
              "      async function convertToInteractive(key) {\n",
              "        const element = document.querySelector('#df-8570b066-447e-4e70-aa7c-b8c5ded03b03');\n",
              "        const dataTable =\n",
              "          await google.colab.kernel.invokeFunction('convertToInteractive',\n",
              "                                                    [key], {});\n",
              "        if (!dataTable) return;\n",
              "\n",
              "        const docLinkHtml = 'Like what you see? Visit the ' +\n",
              "          '<a target=\"_blank\" href=https://colab.research.google.com/notebooks/data_table.ipynb>data table notebook</a>'\n",
              "          + ' to learn more about interactive tables.';\n",
              "        element.innerHTML = '';\n",
              "        dataTable['output_type'] = 'display_data';\n",
              "        await google.colab.output.renderOutput(dataTable, element);\n",
              "        const docLink = document.createElement('div');\n",
              "        docLink.innerHTML = docLinkHtml;\n",
              "        element.appendChild(docLink);\n",
              "      }\n",
              "    </script>\n",
              "  </div>\n",
              "\n",
              "\n",
              "<div id=\"df-d84b3562-40c5-493d-b684-e8bec8fa7f3b\">\n",
              "  <button class=\"colab-df-quickchart\" onclick=\"quickchart('df-d84b3562-40c5-493d-b684-e8bec8fa7f3b')\"\n",
              "            title=\"Suggest charts\"\n",
              "            style=\"display:none;\">\n",
              "\n",
              "<svg xmlns=\"http://www.w3.org/2000/svg\" height=\"24px\"viewBox=\"0 0 24 24\"\n",
              "     width=\"24px\">\n",
              "    <g>\n",
              "        <path d=\"M19 3H5c-1.1 0-2 .9-2 2v14c0 1.1.9 2 2 2h14c1.1 0 2-.9 2-2V5c0-1.1-.9-2-2-2zM9 17H7v-7h2v7zm4 0h-2V7h2v10zm4 0h-2v-4h2v4z\"/>\n",
              "    </g>\n",
              "</svg>\n",
              "  </button>\n",
              "\n",
              "<style>\n",
              "  .colab-df-quickchart {\n",
              "      --bg-color: #E8F0FE;\n",
              "      --fill-color: #1967D2;\n",
              "      --hover-bg-color: #E2EBFA;\n",
              "      --hover-fill-color: #174EA6;\n",
              "      --disabled-fill-color: #AAA;\n",
              "      --disabled-bg-color: #DDD;\n",
              "  }\n",
              "\n",
              "  [theme=dark] .colab-df-quickchart {\n",
              "      --bg-color: #3B4455;\n",
              "      --fill-color: #D2E3FC;\n",
              "      --hover-bg-color: #434B5C;\n",
              "      --hover-fill-color: #FFFFFF;\n",
              "      --disabled-bg-color: #3B4455;\n",
              "      --disabled-fill-color: #666;\n",
              "  }\n",
              "\n",
              "  .colab-df-quickchart {\n",
              "    background-color: var(--bg-color);\n",
              "    border: none;\n",
              "    border-radius: 50%;\n",
              "    cursor: pointer;\n",
              "    display: none;\n",
              "    fill: var(--fill-color);\n",
              "    height: 32px;\n",
              "    padding: 0;\n",
              "    width: 32px;\n",
              "  }\n",
              "\n",
              "  .colab-df-quickchart:hover {\n",
              "    background-color: var(--hover-bg-color);\n",
              "    box-shadow: 0 1px 2px rgba(60, 64, 67, 0.3), 0 1px 3px 1px rgba(60, 64, 67, 0.15);\n",
              "    fill: var(--button-hover-fill-color);\n",
              "  }\n",
              "\n",
              "  .colab-df-quickchart-complete:disabled,\n",
              "  .colab-df-quickchart-complete:disabled:hover {\n",
              "    background-color: var(--disabled-bg-color);\n",
              "    fill: var(--disabled-fill-color);\n",
              "    box-shadow: none;\n",
              "  }\n",
              "\n",
              "  .colab-df-spinner {\n",
              "    border: 2px solid var(--fill-color);\n",
              "    border-color: transparent;\n",
              "    border-bottom-color: var(--fill-color);\n",
              "    animation:\n",
              "      spin 1s steps(1) infinite;\n",
              "  }\n",
              "\n",
              "  @keyframes spin {\n",
              "    0% {\n",
              "      border-color: transparent;\n",
              "      border-bottom-color: var(--fill-color);\n",
              "      border-left-color: var(--fill-color);\n",
              "    }\n",
              "    20% {\n",
              "      border-color: transparent;\n",
              "      border-left-color: var(--fill-color);\n",
              "      border-top-color: var(--fill-color);\n",
              "    }\n",
              "    30% {\n",
              "      border-color: transparent;\n",
              "      border-left-color: var(--fill-color);\n",
              "      border-top-color: var(--fill-color);\n",
              "      border-right-color: var(--fill-color);\n",
              "    }\n",
              "    40% {\n",
              "      border-color: transparent;\n",
              "      border-right-color: var(--fill-color);\n",
              "      border-top-color: var(--fill-color);\n",
              "    }\n",
              "    60% {\n",
              "      border-color: transparent;\n",
              "      border-right-color: var(--fill-color);\n",
              "    }\n",
              "    80% {\n",
              "      border-color: transparent;\n",
              "      border-right-color: var(--fill-color);\n",
              "      border-bottom-color: var(--fill-color);\n",
              "    }\n",
              "    90% {\n",
              "      border-color: transparent;\n",
              "      border-bottom-color: var(--fill-color);\n",
              "    }\n",
              "  }\n",
              "</style>\n",
              "\n",
              "  <script>\n",
              "    async function quickchart(key) {\n",
              "      const quickchartButtonEl =\n",
              "        document.querySelector('#' + key + ' button');\n",
              "      quickchartButtonEl.disabled = true;  // To prevent multiple clicks.\n",
              "      quickchartButtonEl.classList.add('colab-df-spinner');\n",
              "      try {\n",
              "        const charts = await google.colab.kernel.invokeFunction(\n",
              "            'suggestCharts', [key], {});\n",
              "      } catch (error) {\n",
              "        console.error('Error during call to suggestCharts:', error);\n",
              "      }\n",
              "      quickchartButtonEl.classList.remove('colab-df-spinner');\n",
              "      quickchartButtonEl.classList.add('colab-df-quickchart-complete');\n",
              "    }\n",
              "    (() => {\n",
              "      let quickchartButtonEl =\n",
              "        document.querySelector('#df-d84b3562-40c5-493d-b684-e8bec8fa7f3b button');\n",
              "      quickchartButtonEl.style.display =\n",
              "        google.colab.kernel.accessAllowed ? 'block' : 'none';\n",
              "    })();\n",
              "  </script>\n",
              "</div>\n",
              "\n",
              "    </div>\n",
              "  </div>\n"
            ],
            "application/vnd.google.colaboratory.intrinsic+json": {
              "type": "dataframe",
              "variable_name": "df",
              "summary": "{\n  \"name\": \"df\",\n  \"rows\": 35040,\n  \"fields\": [\n    {\n      \"column\": \"Unnamed: 0\",\n      \"properties\": {\n        \"dtype\": \"number\",\n        \"std\": 2528,\n        \"min\": 35040,\n        \"max\": 43799,\n        \"num_unique_values\": 8760,\n        \"samples\": [\n          41096,\n          40596,\n          41030\n        ],\n        \"semantic_type\": \"\",\n        \"description\": \"\"\n      }\n    },\n    {\n      \"column\": \"Time\",\n      \"properties\": {\n        \"dtype\": \"object\",\n        \"num_unique_values\": 8760,\n        \"samples\": [\n          \"10/09/17 8:00\",\n          \"20/08/17 12:00\",\n          \"07/09/17 14:00\"\n        ],\n        \"semantic_type\": \"\",\n        \"description\": \"\"\n      }\n    },\n    {\n      \"column\": \"Location\",\n      \"properties\": {\n        \"dtype\": \"number\",\n        \"std\": 1,\n        \"min\": 1,\n        \"max\": 4,\n        \"num_unique_values\": 4,\n        \"samples\": [\n          2,\n          4,\n          1\n        ],\n        \"semantic_type\": \"\",\n        \"description\": \"\"\n      }\n    },\n    {\n      \"column\": \"Temp_2m\",\n      \"properties\": {\n        \"dtype\": \"number\",\n        \"std\": 22.21577642043663,\n        \"min\": -26.92039978,\n        \"max\": 101.4796002,\n        \"num_unique_values\": 1156,\n        \"samples\": [\n          -3.120399776,\n          2.779600224,\n          24.97960022\n        ],\n        \"semantic_type\": \"\",\n        \"description\": \"\"\n      }\n    },\n    {\n      \"column\": \"RelHum_2m\",\n      \"properties\": {\n        \"dtype\": \"number\",\n        \"std\": 18.38004758847164,\n        \"min\": 15.66420479,\n        \"max\": 99.66420479,\n        \"num_unique_values\": 85,\n        \"samples\": [\n          21.66420479,\n          89.66420479,\n          23.66420479\n        ],\n        \"semantic_type\": \"\",\n        \"description\": \"\"\n      }\n    },\n    {\n      \"column\": \"DP_2m\",\n      \"properties\": {\n        \"dtype\": \"number\",\n        \"std\": 20.722450662401034,\n        \"min\": -32.72740478,\n        \"max\": 75.27259522,\n        \"num_unique_values\": 1048,\n        \"samples\": [\n          13.17259522,\n          -7.627404777,\n          -19.92740478\n        ],\n        \"semantic_type\": \"\",\n        \"description\": \"\"\n      }\n    },\n    {\n      \"column\": \"WS_10m\",\n      \"properties\": {\n        \"dtype\": \"number\",\n        \"std\": 1.9491836654913863,\n        \"min\": 0.165389169,\n        \"max\": 15.53538917,\n        \"num_unique_values\": 1068,\n        \"samples\": [\n          6.295389169,\n          1.965389169,\n          9.195389169\n        ],\n        \"semantic_type\": \"\",\n        \"description\": \"\"\n      }\n    },\n    {\n      \"column\": \"WS_100m\",\n      \"properties\": {\n        \"dtype\": \"number\",\n        \"std\": 2.9881704361700683,\n        \"min\": 0.107799417,\n        \"max\": 22.84779942,\n        \"num_unique_values\": 1574,\n        \"samples\": [\n          10.09779942,\n          6.627799417,\n          16.38779942\n        ],\n        \"semantic_type\": \"\",\n        \"description\": \"\"\n      }\n    },\n    {\n      \"column\": \"WD_10m\",\n      \"properties\": {\n        \"dtype\": \"number\",\n        \"std\": 97.85688613164658,\n        \"min\": 0.051682569,\n        \"max\": 359.0516826,\n        \"num_unique_values\": 360,\n        \"samples\": [\n          167.0516826,\n          121.0516826,\n          147.0516826\n        ],\n        \"semantic_type\": \"\",\n        \"description\": \"\"\n      }\n    },\n    {\n      \"column\": \"WD_100m\",\n      \"properties\": {\n        \"dtype\": \"number\",\n        \"std\": 98.97835121994729,\n        \"min\": -0.9426853,\n        \"max\": 359.0573147,\n        \"num_unique_values\": 361,\n        \"samples\": [\n          217.0573147,\n          323.0573147,\n          84.0573147\n        ],\n        \"semantic_type\": \"\",\n        \"description\": \"\"\n      }\n    },\n    {\n      \"column\": \"WG_10m\",\n      \"properties\": {\n        \"dtype\": \"number\",\n        \"std\": 3.5728553813747,\n        \"min\": 0.436515074,\n        \"max\": 29.13651507,\n        \"num_unique_values\": 250,\n        \"samples\": [\n          15.43651507,\n          4.736515074,\n          9.236515074\n        ],\n        \"semantic_type\": \"\",\n        \"description\": \"\"\n      }\n    }\n  ]\n}"
            }
          },
          "metadata": {},
          "execution_count": 9
        }
      ],
      "source": [
        "df.head(10)"
      ]
    },
    {
      "cell_type": "code",
      "execution_count": 10,
      "metadata": {
        "id": "wzoIM6yXE37j"
      },
      "outputs": [],
      "source": [
        "#pattern = r'(\\d{2}/\\d{2}/\\d{2})\\s(\\d{1,2}:\\d{2})'      #pattern is a regular expression (regex) which is used to separate date and time from the column time. (\\d{2}=2 digits,\\s=space,\\d{1,2}=1 or 2 digits)\n",
        "#df[['Date', 'Hour']] = df['Time'].str.extract(pattern) #creating 2 new columns to store date and time separately, from the existing 'time' column and extracting the date and time from pattern.\n",
        "#print(df.head(10))"
      ]
    },
    {
      "cell_type": "code",
      "execution_count": 11,
      "metadata": {
        "id": "uiEyRmRV-rhe"
      },
      "outputs": [],
      "source": [
        "#df=df.drop(columns=['Time']) #dropping the column time"
      ]
    },
    {
      "cell_type": "code",
      "execution_count": 12,
      "metadata": {
        "id": "ZDkhhkFbdayy",
        "colab": {
          "base_uri": "https://localhost:8080/"
        },
        "outputId": "5c3ed93c-bc27-4241-f9f3-182835a7b441"
      },
      "outputs": [
        {
          "output_type": "stream",
          "name": "stdout",
          "text": [
            "(35040, 11)\n"
          ]
        }
      ],
      "source": [
        "print(df.shape)"
      ]
    },
    {
      "cell_type": "code",
      "execution_count": 13,
      "metadata": {
        "id": "sRMhvMceXIbh",
        "colab": {
          "base_uri": "https://localhost:8080/"
        },
        "outputId": "a7c77ade-7d21-4285-f9cb-1ea49c567484"
      },
      "outputs": [
        {
          "output_type": "stream",
          "name": "stdout",
          "text": [
            "4660452\n"
          ]
        }
      ],
      "source": [
        "data=df.to_string()\n",
        "print(len(data))"
      ]
    },
    {
      "cell_type": "code",
      "execution_count": 14,
      "metadata": {
        "id": "AabV1mP54Rwe",
        "colab": {
          "base_uri": "https://localhost:8080/",
          "height": 429
        },
        "outputId": "7f83b9d7-d628-4b7c-bb33-1b21e7d4e1e2"
      },
      "outputs": [
        {
          "output_type": "execute_result",
          "data": {
            "text/plain": [
              "Unnamed: 0    0\n",
              "Time          0\n",
              "Location      0\n",
              "Temp_2m       0\n",
              "RelHum_2m     0\n",
              "DP_2m         0\n",
              "WS_10m        0\n",
              "WS_100m       0\n",
              "WD_10m        0\n",
              "WD_100m       0\n",
              "WG_10m        0\n",
              "dtype: int64"
            ],
            "text/html": [
              "<div>\n",
              "<style scoped>\n",
              "    .dataframe tbody tr th:only-of-type {\n",
              "        vertical-align: middle;\n",
              "    }\n",
              "\n",
              "    .dataframe tbody tr th {\n",
              "        vertical-align: top;\n",
              "    }\n",
              "\n",
              "    .dataframe thead th {\n",
              "        text-align: right;\n",
              "    }\n",
              "</style>\n",
              "<table border=\"1\" class=\"dataframe\">\n",
              "  <thead>\n",
              "    <tr style=\"text-align: right;\">\n",
              "      <th></th>\n",
              "      <th>0</th>\n",
              "    </tr>\n",
              "  </thead>\n",
              "  <tbody>\n",
              "    <tr>\n",
              "      <th>Unnamed: 0</th>\n",
              "      <td>0</td>\n",
              "    </tr>\n",
              "    <tr>\n",
              "      <th>Time</th>\n",
              "      <td>0</td>\n",
              "    </tr>\n",
              "    <tr>\n",
              "      <th>Location</th>\n",
              "      <td>0</td>\n",
              "    </tr>\n",
              "    <tr>\n",
              "      <th>Temp_2m</th>\n",
              "      <td>0</td>\n",
              "    </tr>\n",
              "    <tr>\n",
              "      <th>RelHum_2m</th>\n",
              "      <td>0</td>\n",
              "    </tr>\n",
              "    <tr>\n",
              "      <th>DP_2m</th>\n",
              "      <td>0</td>\n",
              "    </tr>\n",
              "    <tr>\n",
              "      <th>WS_10m</th>\n",
              "      <td>0</td>\n",
              "    </tr>\n",
              "    <tr>\n",
              "      <th>WS_100m</th>\n",
              "      <td>0</td>\n",
              "    </tr>\n",
              "    <tr>\n",
              "      <th>WD_10m</th>\n",
              "      <td>0</td>\n",
              "    </tr>\n",
              "    <tr>\n",
              "      <th>WD_100m</th>\n",
              "      <td>0</td>\n",
              "    </tr>\n",
              "    <tr>\n",
              "      <th>WG_10m</th>\n",
              "      <td>0</td>\n",
              "    </tr>\n",
              "  </tbody>\n",
              "</table>\n",
              "</div><br><label><b>dtype:</b> int64</label>"
            ]
          },
          "metadata": {},
          "execution_count": 14
        }
      ],
      "source": [
        "df.isnull().sum()"
      ]
    },
    {
      "cell_type": "code",
      "source": [
        "print(df.isnull().values.any())"
      ],
      "metadata": {
        "id": "9JptuWCNoGmU",
        "colab": {
          "base_uri": "https://localhost:8080/"
        },
        "outputId": "fa561e2d-b342-4c5d-eaea-d335592bc5ca"
      },
      "execution_count": 15,
      "outputs": [
        {
          "output_type": "stream",
          "name": "stdout",
          "text": [
            "False\n"
          ]
        }
      ]
    },
    {
      "cell_type": "code",
      "source": [
        "from sklearn.preprocessing import MinMaxScaler\n",
        "scaler = MinMaxScaler()\n",
        "numerical_columns = ['Temp_2m', 'RelHum_2m', 'DP_2m', 'WS_10m', 'WS_100m', 'WD_10m', 'WD_100m', 'WG_10m']\n",
        "df[numerical_columns] = scaler.fit_transform(df[numerical_columns])"
      ],
      "metadata": {
        "id": "PlRyFZYTuzBc"
      },
      "execution_count": 16,
      "outputs": []
    },
    {
      "cell_type": "code",
      "source": [
        "print(df.tail(5))"
      ],
      "metadata": {
        "id": "V4Nf5NXhbkmL",
        "colab": {
          "base_uri": "https://localhost:8080/"
        },
        "outputId": "910747bd-6bab-4f25-ccf4-c26d1c1ede4f"
      },
      "execution_count": 17,
      "outputs": [
        {
          "output_type": "stream",
          "name": "stdout",
          "text": [
            "       Unnamed: 0            Time  Location   Temp_2m  RelHum_2m     DP_2m  \\\n",
            "35035       43795  31/12/17 19:00         4  0.406542   0.928571  0.521296   \n",
            "35036       43796  31/12/17 20:00         4  0.404984   0.904762  0.513889   \n",
            "35037       43797  31/12/17 21:00         4  0.401869   0.880952  0.507407   \n",
            "35038       43798  31/12/17 22:00         4  0.401869   0.869048  0.503704   \n",
            "35039       43799  31/12/17 23:00         4  0.401869   0.857143  0.500926   \n",
            "\n",
            "         WS_10m   WS_100m    WD_10m   WD_100m    WG_10m  \n",
            "35035  0.260898  0.288478  0.008357  0.022222  0.268293  \n",
            "35036  0.305791  0.326297  0.000000  0.013889  0.257840  \n",
            "35037  0.299935  0.328496  0.008357  0.022222  0.257840  \n",
            "35038  0.299284  0.322779  0.002786  0.016667  0.254355  \n",
            "35039  0.302537  0.337291  0.022284  0.033333  0.254355  \n"
          ]
        }
      ]
    },
    {
      "cell_type": "code",
      "source": [
        "print(df.head(10))"
      ],
      "metadata": {
        "id": "JAET77R06Ies",
        "colab": {
          "base_uri": "https://localhost:8080/"
        },
        "outputId": "e7116025-588f-4b4e-b06e-843d9677c888"
      },
      "execution_count": 18,
      "outputs": [
        {
          "output_type": "stream",
          "name": "stdout",
          "text": [
            "   Unnamed: 0           Time  Location   Temp_2m  RelHum_2m     DP_2m  \\\n",
            "0       35040  01/01/17 0:00         1  0.362928   0.880952  0.461111   \n",
            "1       35041  01/01/17 1:00         1  0.359034   0.892857  0.457407   \n",
            "2       35042  01/01/17 2:00         1  0.362150   0.869048  0.457407   \n",
            "3       35043  01/01/17 3:00         1  0.368380   0.833333  0.456481   \n",
            "4       35044  01/01/17 4:00         1  0.373832   0.797619  0.456481   \n",
            "5       35045  01/01/17 5:00         1  0.375389   0.809524  0.460185   \n",
            "6       35046  01/01/17 6:00         1  0.356698   0.880952  0.452778   \n",
            "7       35047  01/01/17 7:00         1  0.377726   0.857143  0.472222   \n",
            "8       35048  01/01/17 8:00         1  0.404984   0.773810  0.487963   \n",
            "9       35049  01/01/17 9:00         1  0.445483   0.690476  0.512963   \n",
            "\n",
            "     WS_10m   WS_100m    WD_10m   WD_100m    WG_10m  \n",
            "0  0.059857  0.033421  0.534819  0.650000  0.041812  \n",
            "1  0.097593  0.079156  0.509749  0.550000  0.080139  \n",
            "2  0.109304  0.121372  0.451253  0.466667  0.080139  \n",
            "3  0.140534  0.170624  0.462396  0.450000  0.087108  \n",
            "4  0.136630  0.173263  0.506964  0.475000  0.094077  \n",
            "5  0.136630  0.168426  0.490251  0.480556  0.080139  \n",
            "6  0.156148  0.152595  0.373259  0.450000  0.108014  \n",
            "7  0.144437  0.160950  0.225627  0.319444  0.104530  \n",
            "8  0.191282  0.237027  0.220056  0.277778  0.149826  \n",
            "9  0.216005  0.272208  0.292479  0.300000  0.191638  \n"
          ]
        }
      ]
    },
    {
      "cell_type": "code",
      "source": [
        "df=df.drop(['Unnamed: 0'], axis=1)"
      ],
      "metadata": {
        "id": "poqrRDhV5xTh"
      },
      "execution_count": 19,
      "outputs": []
    }
  ],
  "metadata": {
    "colab": {
      "provenance": []
    },
    "kernelspec": {
      "display_name": "Python 3",
      "name": "python3"
    },
    "language_info": {
      "name": "python"
    }
  },
  "nbformat": 4,
  "nbformat_minor": 0
}