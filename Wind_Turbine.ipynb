{
  "cells": [
    {
      "cell_type": "markdown",
      "metadata": {
        "id": "view-in-github",
        "colab_type": "text"
      },
      "source": [
        "<a href=\"https://colab.research.google.com/github/SShreya22/Wind_Turbine/blob/main/Wind_Turbine.ipynb\" target=\"_parent\"><img src=\"https://colab.research.google.com/assets/colab-badge.svg\" alt=\"Open In Colab\"/></a>"
      ]
    },
    {
      "cell_type": "code",
      "source": [
        "!pip install -q python-dotenv kaggle"
      ],
      "metadata": {
        "id": "uhGZeg_UKLVj"
      },
      "execution_count": 33,
      "outputs": []
    },
    {
      "cell_type": "code",
      "source": [
        "from dotenv import load_dotenv\n",
        "import os\n",
        "from google.colab import drive\n",
        "drive.mount('/content/drive')\n",
        "load_dotenv(\"/content/drive/My Drive/Colab Notebooks/.env\")"
      ],
      "metadata": {
        "colab": {
          "base_uri": "https://localhost:8080/"
        },
        "id": "eNre4jknkNIV",
        "outputId": "195ea42f-005d-4f39-86d3-2a98775239f4"
      },
      "execution_count": 34,
      "outputs": [
        {
          "output_type": "stream",
          "name": "stdout",
          "text": [
            "Drive already mounted at /content/drive; to attempt to forcibly remount, call drive.mount(\"/content/drive\", force_remount=True).\n"
          ]
        },
        {
          "output_type": "execute_result",
          "data": {
            "text/plain": [
              "True"
            ]
          },
          "metadata": {},
          "execution_count": 34
        }
      ]
    },
    {
      "cell_type": "code",
      "source": [
        "# Define dataset directory\n",
        "DATASET_DIR = \"/content/wind_turbine/\"\n",
        "ZIP_FILE = \"wind-turbine-power-generation-forecasting.zip\""
      ],
      "metadata": {
        "id": "VtaAMONjTUbp"
      },
      "execution_count": 35,
      "outputs": []
    },
    {
      "cell_type": "code",
      "source": [
        "if not os.path.exists(f\"{DATASET_DIR}{ZIP_FILE}\"):\n",
        "    !kaggle datasets download -d gauravduttakiit/wind-turbine-power-generation-forecasting -p {DATASET_DIR}\n",
        "\n",
        "!unzip -o {DATASET_DIR}{ZIP_FILE} -d {DATASET_DIR}"
      ],
      "metadata": {
        "colab": {
          "base_uri": "https://localhost:8080/"
        },
        "id": "94xqS-S_TYQ-",
        "outputId": "0d09d74f-82b1-4c72-f53e-7e3405bd5529"
      },
      "execution_count": 36,
      "outputs": [
        {
          "output_type": "stream",
          "name": "stdout",
          "text": [
            "Archive:  /content/wind_turbine/wind-turbine-power-generation-forecasting.zip\n",
            "  inflating: /content/wind_turbine/Dataset/Submission.csv  \n",
            "  inflating: /content/wind_turbine/Dataset/Test.csv  \n",
            "  inflating: /content/wind_turbine/Dataset/Train.xlsx  \n"
          ]
        }
      ]
    },
    {
      "cell_type": "code",
      "source": [
        "import glob\n",
        "import pandas as pd\n",
        "\n",
        "# Search for CSV files inside ALL subfolders\n",
        "csv_files = glob.glob(f\"{DATASET_DIR}/**/*.csv\", recursive=True)\n",
        "\n",
        "if csv_files:\n",
        "    print(\"✅ Found CSV file:\", csv_files[0])  # Print the found file\n",
        "    df = pd.read_csv(csv_files[0])  # Load the correct file\n",
        "    print(\"Dataset loaded successfully!\")\n",
        "    df.head()\n",
        "else:\n",
        "    print(\"❌ No CSV file found in dataset folder!\")\n"
      ],
      "metadata": {
        "colab": {
          "base_uri": "https://localhost:8080/"
        },
        "id": "08clWJzBTalF",
        "outputId": "ce0061a1-349b-4d28-89bd-a1612186e0b0"
      },
      "execution_count": 37,
      "outputs": [
        {
          "output_type": "stream",
          "name": "stdout",
          "text": [
            "✅ Found CSV file: /content/wind_turbine/Dataset/Submission.csv\n",
            "Dataset loaded successfully!\n"
          ]
        }
      ]
    },
    {
      "cell_type": "code",
      "source": [
        "!ls -a\n",
        "!git clone https://github.com/SShreya22/wind_turbine.git\n",
        "%cd wind_turbine"
      ],
      "metadata": {
        "colab": {
          "base_uri": "https://localhost:8080/"
        },
        "id": "My_4Kd6JEk6n",
        "outputId": "9b033ce1-490d-4e85-db4e-b313bafc3573"
      },
      "execution_count": 38,
      "outputs": [
        {
          "output_type": "stream",
          "name": "stdout",
          "text": [
            ".  ..  Dataset\twind-turbine-power-generation-forecasting.zip\n",
            "Cloning into 'wind_turbine'...\n",
            "remote: Enumerating objects: 54, done.\u001b[K\n",
            "remote: Counting objects: 100% (54/54), done.\u001b[K\n",
            "remote: Compressing objects: 100% (52/52), done.\u001b[K\n",
            "remote: Total 54 (delta 23), reused 0 (delta 0), pack-reused 0 (from 0)\u001b[K\n",
            "Receiving objects: 100% (54/54), 30.35 KiB | 2.02 MiB/s, done.\n",
            "Resolving deltas: 100% (23/23), done.\n",
            "/content/wind_turbine/wind_turbine\n"
          ]
        }
      ]
    },
    {
      "cell_type": "code",
      "source": [
        "!pip install kaggle\n",
        "import os\n",
        "import pandas as pd\n",
        "from dotenv import load_dotenv\n",
        "\n",
        "!kaggle datasets download -d gauravduttakiit/wind-turbine-power-generation-forecasting\n",
        "!unzip /content/wind_turbine/wind_turbine/wind_turbine/wind-turbine-power-generation-forecasting.zip -d /content/wind_turbine/"
      ],
      "metadata": {
        "colab": {
          "base_uri": "https://localhost:8080/"
        },
        "id": "yPLZ1dxeFNxF",
        "outputId": "fa7c94ed-d68a-4532-9a31-4f253f5592cb"
      },
      "execution_count": 39,
      "outputs": [
        {
          "output_type": "stream",
          "name": "stdout",
          "text": [
            "Requirement already satisfied: kaggle in /usr/local/lib/python3.11/dist-packages (1.6.17)\n",
            "Requirement already satisfied: six>=1.10 in /usr/local/lib/python3.11/dist-packages (from kaggle) (1.17.0)\n",
            "Requirement already satisfied: certifi>=2023.7.22 in /usr/local/lib/python3.11/dist-packages (from kaggle) (2025.1.31)\n",
            "Requirement already satisfied: python-dateutil in /usr/local/lib/python3.11/dist-packages (from kaggle) (2.8.2)\n",
            "Requirement already satisfied: requests in /usr/local/lib/python3.11/dist-packages (from kaggle) (2.32.3)\n",
            "Requirement already satisfied: tqdm in /usr/local/lib/python3.11/dist-packages (from kaggle) (4.67.1)\n",
            "Requirement already satisfied: python-slugify in /usr/local/lib/python3.11/dist-packages (from kaggle) (8.0.4)\n",
            "Requirement already satisfied: urllib3 in /usr/local/lib/python3.11/dist-packages (from kaggle) (2.3.0)\n",
            "Requirement already satisfied: bleach in /usr/local/lib/python3.11/dist-packages (from kaggle) (6.2.0)\n",
            "Requirement already satisfied: webencodings in /usr/local/lib/python3.11/dist-packages (from bleach->kaggle) (0.5.1)\n",
            "Requirement already satisfied: text-unidecode>=1.3 in /usr/local/lib/python3.11/dist-packages (from python-slugify->kaggle) (1.3)\n",
            "Requirement already satisfied: charset-normalizer<4,>=2 in /usr/local/lib/python3.11/dist-packages (from requests->kaggle) (3.4.1)\n",
            "Requirement already satisfied: idna<4,>=2.5 in /usr/local/lib/python3.11/dist-packages (from requests->kaggle) (3.10)\n",
            "Dataset URL: https://www.kaggle.com/datasets/gauravduttakiit/wind-turbine-power-generation-forecasting\n",
            "License(s): CC0-1.0\n",
            "Downloading wind-turbine-power-generation-forecasting.zip to /content/wind_turbine/wind_turbine\n",
            "  0% 0.00/11.7M [00:00<?, ?B/s]\n",
            "100% 11.7M/11.7M [00:00<00:00, 147MB/s]\n",
            "unzip:  cannot find or open /content/wind_turbine/wind_turbine/wind_turbine/wind-turbine-power-generation-forecasting.zip, /content/wind_turbine/wind_turbine/wind_turbine/wind-turbine-power-generation-forecasting.zip.zip or /content/wind_turbine/wind_turbine/wind_turbine/wind-turbine-power-generation-forecasting.zip.ZIP.\n"
          ]
        }
      ]
    },
    {
      "cell_type": "code",
      "source": [
        "import pandas as pdy\n",
        "df = pd.read_csv(\"/content/wind_turbine/Dataset/Test.csv\")\n",
        "df.head()"
      ],
      "metadata": {
        "colab": {
          "base_uri": "https://localhost:8080/",
          "height": 206
        },
        "id": "4wVWmpZHFPJ3",
        "outputId": "b3c14bef-0d62-4ace-8a89-4ce55f2f25b3"
      },
      "execution_count": 40,
      "outputs": [
        {
          "output_type": "execute_result",
          "data": {
            "text/plain": [
              "   Unnamed: 0           Time  Location  Temp_2m  RelHum_2m      DP_2m  \\\n",
              "0       35040  01/01/17 0:00         1  19.6796  89.664205  17.072595   \n",
              "1       35041  01/01/17 1:00         1  19.1796  90.664205  16.672595   \n",
              "2       35042  01/01/17 2:00         1  19.5796  88.664205  16.672595   \n",
              "3       35043  01/01/17 3:00         1  20.3796  85.664205  16.572595   \n",
              "4       35044  01/01/17 4:00         1  21.0796  82.664205  16.572595   \n",
              "\n",
              "     WS_10m   WS_100m      WD_10m     WD_100m    WG_10m  \n",
              "0  1.085389  0.867799  192.051683  233.057315  1.636515  \n",
              "1  1.665389  1.907799  183.051683  197.057315  2.736515  \n",
              "2  1.845389  2.867799  162.051683  167.057315  2.736515  \n",
              "3  2.325389  3.987799  166.051683  161.057315  2.936515  \n",
              "4  2.265389  4.047799  182.051683  170.057315  3.136515  "
            ],
            "text/html": [
              "\n",
              "  <div id=\"df-40e525a0-14b4-4312-b973-88f4bda20f53\" class=\"colab-df-container\">\n",
              "    <div>\n",
              "<style scoped>\n",
              "    .dataframe tbody tr th:only-of-type {\n",
              "        vertical-align: middle;\n",
              "    }\n",
              "\n",
              "    .dataframe tbody tr th {\n",
              "        vertical-align: top;\n",
              "    }\n",
              "\n",
              "    .dataframe thead th {\n",
              "        text-align: right;\n",
              "    }\n",
              "</style>\n",
              "<table border=\"1\" class=\"dataframe\">\n",
              "  <thead>\n",
              "    <tr style=\"text-align: right;\">\n",
              "      <th></th>\n",
              "      <th>Unnamed: 0</th>\n",
              "      <th>Time</th>\n",
              "      <th>Location</th>\n",
              "      <th>Temp_2m</th>\n",
              "      <th>RelHum_2m</th>\n",
              "      <th>DP_2m</th>\n",
              "      <th>WS_10m</th>\n",
              "      <th>WS_100m</th>\n",
              "      <th>WD_10m</th>\n",
              "      <th>WD_100m</th>\n",
              "      <th>WG_10m</th>\n",
              "    </tr>\n",
              "  </thead>\n",
              "  <tbody>\n",
              "    <tr>\n",
              "      <th>0</th>\n",
              "      <td>35040</td>\n",
              "      <td>01/01/17 0:00</td>\n",
              "      <td>1</td>\n",
              "      <td>19.6796</td>\n",
              "      <td>89.664205</td>\n",
              "      <td>17.072595</td>\n",
              "      <td>1.085389</td>\n",
              "      <td>0.867799</td>\n",
              "      <td>192.051683</td>\n",
              "      <td>233.057315</td>\n",
              "      <td>1.636515</td>\n",
              "    </tr>\n",
              "    <tr>\n",
              "      <th>1</th>\n",
              "      <td>35041</td>\n",
              "      <td>01/01/17 1:00</td>\n",
              "      <td>1</td>\n",
              "      <td>19.1796</td>\n",
              "      <td>90.664205</td>\n",
              "      <td>16.672595</td>\n",
              "      <td>1.665389</td>\n",
              "      <td>1.907799</td>\n",
              "      <td>183.051683</td>\n",
              "      <td>197.057315</td>\n",
              "      <td>2.736515</td>\n",
              "    </tr>\n",
              "    <tr>\n",
              "      <th>2</th>\n",
              "      <td>35042</td>\n",
              "      <td>01/01/17 2:00</td>\n",
              "      <td>1</td>\n",
              "      <td>19.5796</td>\n",
              "      <td>88.664205</td>\n",
              "      <td>16.672595</td>\n",
              "      <td>1.845389</td>\n",
              "      <td>2.867799</td>\n",
              "      <td>162.051683</td>\n",
              "      <td>167.057315</td>\n",
              "      <td>2.736515</td>\n",
              "    </tr>\n",
              "    <tr>\n",
              "      <th>3</th>\n",
              "      <td>35043</td>\n",
              "      <td>01/01/17 3:00</td>\n",
              "      <td>1</td>\n",
              "      <td>20.3796</td>\n",
              "      <td>85.664205</td>\n",
              "      <td>16.572595</td>\n",
              "      <td>2.325389</td>\n",
              "      <td>3.987799</td>\n",
              "      <td>166.051683</td>\n",
              "      <td>161.057315</td>\n",
              "      <td>2.936515</td>\n",
              "    </tr>\n",
              "    <tr>\n",
              "      <th>4</th>\n",
              "      <td>35044</td>\n",
              "      <td>01/01/17 4:00</td>\n",
              "      <td>1</td>\n",
              "      <td>21.0796</td>\n",
              "      <td>82.664205</td>\n",
              "      <td>16.572595</td>\n",
              "      <td>2.265389</td>\n",
              "      <td>4.047799</td>\n",
              "      <td>182.051683</td>\n",
              "      <td>170.057315</td>\n",
              "      <td>3.136515</td>\n",
              "    </tr>\n",
              "  </tbody>\n",
              "</table>\n",
              "</div>\n",
              "    <div class=\"colab-df-buttons\">\n",
              "\n",
              "  <div class=\"colab-df-container\">\n",
              "    <button class=\"colab-df-convert\" onclick=\"convertToInteractive('df-40e525a0-14b4-4312-b973-88f4bda20f53')\"\n",
              "            title=\"Convert this dataframe to an interactive table.\"\n",
              "            style=\"display:none;\">\n",
              "\n",
              "  <svg xmlns=\"http://www.w3.org/2000/svg\" height=\"24px\" viewBox=\"0 -960 960 960\">\n",
              "    <path d=\"M120-120v-720h720v720H120Zm60-500h600v-160H180v160Zm220 220h160v-160H400v160Zm0 220h160v-160H400v160ZM180-400h160v-160H180v160Zm440 0h160v-160H620v160ZM180-180h160v-160H180v160Zm440 0h160v-160H620v160Z\"/>\n",
              "  </svg>\n",
              "    </button>\n",
              "\n",
              "  <style>\n",
              "    .colab-df-container {\n",
              "      display:flex;\n",
              "      gap: 12px;\n",
              "    }\n",
              "\n",
              "    .colab-df-convert {\n",
              "      background-color: #E8F0FE;\n",
              "      border: none;\n",
              "      border-radius: 50%;\n",
              "      cursor: pointer;\n",
              "      display: none;\n",
              "      fill: #1967D2;\n",
              "      height: 32px;\n",
              "      padding: 0 0 0 0;\n",
              "      width: 32px;\n",
              "    }\n",
              "\n",
              "    .colab-df-convert:hover {\n",
              "      background-color: #E2EBFA;\n",
              "      box-shadow: 0px 1px 2px rgba(60, 64, 67, 0.3), 0px 1px 3px 1px rgba(60, 64, 67, 0.15);\n",
              "      fill: #174EA6;\n",
              "    }\n",
              "\n",
              "    .colab-df-buttons div {\n",
              "      margin-bottom: 4px;\n",
              "    }\n",
              "\n",
              "    [theme=dark] .colab-df-convert {\n",
              "      background-color: #3B4455;\n",
              "      fill: #D2E3FC;\n",
              "    }\n",
              "\n",
              "    [theme=dark] .colab-df-convert:hover {\n",
              "      background-color: #434B5C;\n",
              "      box-shadow: 0px 1px 3px 1px rgba(0, 0, 0, 0.15);\n",
              "      filter: drop-shadow(0px 1px 2px rgba(0, 0, 0, 0.3));\n",
              "      fill: #FFFFFF;\n",
              "    }\n",
              "  </style>\n",
              "\n",
              "    <script>\n",
              "      const buttonEl =\n",
              "        document.querySelector('#df-40e525a0-14b4-4312-b973-88f4bda20f53 button.colab-df-convert');\n",
              "      buttonEl.style.display =\n",
              "        google.colab.kernel.accessAllowed ? 'block' : 'none';\n",
              "\n",
              "      async function convertToInteractive(key) {\n",
              "        const element = document.querySelector('#df-40e525a0-14b4-4312-b973-88f4bda20f53');\n",
              "        const dataTable =\n",
              "          await google.colab.kernel.invokeFunction('convertToInteractive',\n",
              "                                                    [key], {});\n",
              "        if (!dataTable) return;\n",
              "\n",
              "        const docLinkHtml = 'Like what you see? Visit the ' +\n",
              "          '<a target=\"_blank\" href=https://colab.research.google.com/notebooks/data_table.ipynb>data table notebook</a>'\n",
              "          + ' to learn more about interactive tables.';\n",
              "        element.innerHTML = '';\n",
              "        dataTable['output_type'] = 'display_data';\n",
              "        await google.colab.output.renderOutput(dataTable, element);\n",
              "        const docLink = document.createElement('div');\n",
              "        docLink.innerHTML = docLinkHtml;\n",
              "        element.appendChild(docLink);\n",
              "      }\n",
              "    </script>\n",
              "  </div>\n",
              "\n",
              "\n",
              "<div id=\"df-673c3f40-cafe-4c02-a6c8-9e4bb9d97f88\">\n",
              "  <button class=\"colab-df-quickchart\" onclick=\"quickchart('df-673c3f40-cafe-4c02-a6c8-9e4bb9d97f88')\"\n",
              "            title=\"Suggest charts\"\n",
              "            style=\"display:none;\">\n",
              "\n",
              "<svg xmlns=\"http://www.w3.org/2000/svg\" height=\"24px\"viewBox=\"0 0 24 24\"\n",
              "     width=\"24px\">\n",
              "    <g>\n",
              "        <path d=\"M19 3H5c-1.1 0-2 .9-2 2v14c0 1.1.9 2 2 2h14c1.1 0 2-.9 2-2V5c0-1.1-.9-2-2-2zM9 17H7v-7h2v7zm4 0h-2V7h2v10zm4 0h-2v-4h2v4z\"/>\n",
              "    </g>\n",
              "</svg>\n",
              "  </button>\n",
              "\n",
              "<style>\n",
              "  .colab-df-quickchart {\n",
              "      --bg-color: #E8F0FE;\n",
              "      --fill-color: #1967D2;\n",
              "      --hover-bg-color: #E2EBFA;\n",
              "      --hover-fill-color: #174EA6;\n",
              "      --disabled-fill-color: #AAA;\n",
              "      --disabled-bg-color: #DDD;\n",
              "  }\n",
              "\n",
              "  [theme=dark] .colab-df-quickchart {\n",
              "      --bg-color: #3B4455;\n",
              "      --fill-color: #D2E3FC;\n",
              "      --hover-bg-color: #434B5C;\n",
              "      --hover-fill-color: #FFFFFF;\n",
              "      --disabled-bg-color: #3B4455;\n",
              "      --disabled-fill-color: #666;\n",
              "  }\n",
              "\n",
              "  .colab-df-quickchart {\n",
              "    background-color: var(--bg-color);\n",
              "    border: none;\n",
              "    border-radius: 50%;\n",
              "    cursor: pointer;\n",
              "    display: none;\n",
              "    fill: var(--fill-color);\n",
              "    height: 32px;\n",
              "    padding: 0;\n",
              "    width: 32px;\n",
              "  }\n",
              "\n",
              "  .colab-df-quickchart:hover {\n",
              "    background-color: var(--hover-bg-color);\n",
              "    box-shadow: 0 1px 2px rgba(60, 64, 67, 0.3), 0 1px 3px 1px rgba(60, 64, 67, 0.15);\n",
              "    fill: var(--button-hover-fill-color);\n",
              "  }\n",
              "\n",
              "  .colab-df-quickchart-complete:disabled,\n",
              "  .colab-df-quickchart-complete:disabled:hover {\n",
              "    background-color: var(--disabled-bg-color);\n",
              "    fill: var(--disabled-fill-color);\n",
              "    box-shadow: none;\n",
              "  }\n",
              "\n",
              "  .colab-df-spinner {\n",
              "    border: 2px solid var(--fill-color);\n",
              "    border-color: transparent;\n",
              "    border-bottom-color: var(--fill-color);\n",
              "    animation:\n",
              "      spin 1s steps(1) infinite;\n",
              "  }\n",
              "\n",
              "  @keyframes spin {\n",
              "    0% {\n",
              "      border-color: transparent;\n",
              "      border-bottom-color: var(--fill-color);\n",
              "      border-left-color: var(--fill-color);\n",
              "    }\n",
              "    20% {\n",
              "      border-color: transparent;\n",
              "      border-left-color: var(--fill-color);\n",
              "      border-top-color: var(--fill-color);\n",
              "    }\n",
              "    30% {\n",
              "      border-color: transparent;\n",
              "      border-left-color: var(--fill-color);\n",
              "      border-top-color: var(--fill-color);\n",
              "      border-right-color: var(--fill-color);\n",
              "    }\n",
              "    40% {\n",
              "      border-color: transparent;\n",
              "      border-right-color: var(--fill-color);\n",
              "      border-top-color: var(--fill-color);\n",
              "    }\n",
              "    60% {\n",
              "      border-color: transparent;\n",
              "      border-right-color: var(--fill-color);\n",
              "    }\n",
              "    80% {\n",
              "      border-color: transparent;\n",
              "      border-right-color: var(--fill-color);\n",
              "      border-bottom-color: var(--fill-color);\n",
              "    }\n",
              "    90% {\n",
              "      border-color: transparent;\n",
              "      border-bottom-color: var(--fill-color);\n",
              "    }\n",
              "  }\n",
              "</style>\n",
              "\n",
              "  <script>\n",
              "    async function quickchart(key) {\n",
              "      const quickchartButtonEl =\n",
              "        document.querySelector('#' + key + ' button');\n",
              "      quickchartButtonEl.disabled = true;  // To prevent multiple clicks.\n",
              "      quickchartButtonEl.classList.add('colab-df-spinner');\n",
              "      try {\n",
              "        const charts = await google.colab.kernel.invokeFunction(\n",
              "            'suggestCharts', [key], {});\n",
              "      } catch (error) {\n",
              "        console.error('Error during call to suggestCharts:', error);\n",
              "      }\n",
              "      quickchartButtonEl.classList.remove('colab-df-spinner');\n",
              "      quickchartButtonEl.classList.add('colab-df-quickchart-complete');\n",
              "    }\n",
              "    (() => {\n",
              "      let quickchartButtonEl =\n",
              "        document.querySelector('#df-673c3f40-cafe-4c02-a6c8-9e4bb9d97f88 button');\n",
              "      quickchartButtonEl.style.display =\n",
              "        google.colab.kernel.accessAllowed ? 'block' : 'none';\n",
              "    })();\n",
              "  </script>\n",
              "</div>\n",
              "\n",
              "    </div>\n",
              "  </div>\n"
            ],
            "application/vnd.google.colaboratory.intrinsic+json": {
              "type": "dataframe",
              "variable_name": "df",
              "summary": "{\n  \"name\": \"df\",\n  \"rows\": 35040,\n  \"fields\": [\n    {\n      \"column\": \"Unnamed: 0\",\n      \"properties\": {\n        \"dtype\": \"number\",\n        \"std\": 2528,\n        \"min\": 35040,\n        \"max\": 43799,\n        \"num_unique_values\": 8760,\n        \"samples\": [\n          41096,\n          40596,\n          41030\n        ],\n        \"semantic_type\": \"\",\n        \"description\": \"\"\n      }\n    },\n    {\n      \"column\": \"Time\",\n      \"properties\": {\n        \"dtype\": \"object\",\n        \"num_unique_values\": 8760,\n        \"samples\": [\n          \"10/09/17 8:00\",\n          \"20/08/17 12:00\",\n          \"07/09/17 14:00\"\n        ],\n        \"semantic_type\": \"\",\n        \"description\": \"\"\n      }\n    },\n    {\n      \"column\": \"Location\",\n      \"properties\": {\n        \"dtype\": \"number\",\n        \"std\": 1,\n        \"min\": 1,\n        \"max\": 4,\n        \"num_unique_values\": 4,\n        \"samples\": [\n          2,\n          4,\n          1\n        ],\n        \"semantic_type\": \"\",\n        \"description\": \"\"\n      }\n    },\n    {\n      \"column\": \"Temp_2m\",\n      \"properties\": {\n        \"dtype\": \"number\",\n        \"std\": 22.21577642043663,\n        \"min\": -26.92039978,\n        \"max\": 101.4796002,\n        \"num_unique_values\": 1156,\n        \"samples\": [\n          -3.120399776,\n          2.779600224,\n          24.97960022\n        ],\n        \"semantic_type\": \"\",\n        \"description\": \"\"\n      }\n    },\n    {\n      \"column\": \"RelHum_2m\",\n      \"properties\": {\n        \"dtype\": \"number\",\n        \"std\": 18.38004758847164,\n        \"min\": 15.66420479,\n        \"max\": 99.66420479,\n        \"num_unique_values\": 85,\n        \"samples\": [\n          21.66420479,\n          89.66420479,\n          23.66420479\n        ],\n        \"semantic_type\": \"\",\n        \"description\": \"\"\n      }\n    },\n    {\n      \"column\": \"DP_2m\",\n      \"properties\": {\n        \"dtype\": \"number\",\n        \"std\": 20.722450662401034,\n        \"min\": -32.72740478,\n        \"max\": 75.27259522,\n        \"num_unique_values\": 1048,\n        \"samples\": [\n          13.17259522,\n          -7.627404777,\n          -19.92740478\n        ],\n        \"semantic_type\": \"\",\n        \"description\": \"\"\n      }\n    },\n    {\n      \"column\": \"WS_10m\",\n      \"properties\": {\n        \"dtype\": \"number\",\n        \"std\": 1.9491836654913863,\n        \"min\": 0.165389169,\n        \"max\": 15.53538917,\n        \"num_unique_values\": 1068,\n        \"samples\": [\n          6.295389169,\n          1.965389169,\n          9.195389169\n        ],\n        \"semantic_type\": \"\",\n        \"description\": \"\"\n      }\n    },\n    {\n      \"column\": \"WS_100m\",\n      \"properties\": {\n        \"dtype\": \"number\",\n        \"std\": 2.9881704361700683,\n        \"min\": 0.107799417,\n        \"max\": 22.84779942,\n        \"num_unique_values\": 1574,\n        \"samples\": [\n          10.09779942,\n          6.627799417,\n          16.38779942\n        ],\n        \"semantic_type\": \"\",\n        \"description\": \"\"\n      }\n    },\n    {\n      \"column\": \"WD_10m\",\n      \"properties\": {\n        \"dtype\": \"number\",\n        \"std\": 97.85688613164658,\n        \"min\": 0.051682569,\n        \"max\": 359.0516826,\n        \"num_unique_values\": 360,\n        \"samples\": [\n          167.0516826,\n          121.0516826,\n          147.0516826\n        ],\n        \"semantic_type\": \"\",\n        \"description\": \"\"\n      }\n    },\n    {\n      \"column\": \"WD_100m\",\n      \"properties\": {\n        \"dtype\": \"number\",\n        \"std\": 98.97835121994729,\n        \"min\": -0.9426853,\n        \"max\": 359.0573147,\n        \"num_unique_values\": 361,\n        \"samples\": [\n          217.0573147,\n          323.0573147,\n          84.0573147\n        ],\n        \"semantic_type\": \"\",\n        \"description\": \"\"\n      }\n    },\n    {\n      \"column\": \"WG_10m\",\n      \"properties\": {\n        \"dtype\": \"number\",\n        \"std\": 3.5728553813747,\n        \"min\": 0.436515074,\n        \"max\": 29.13651507,\n        \"num_unique_values\": 250,\n        \"samples\": [\n          15.43651507,\n          4.736515074,\n          9.236515074\n        ],\n        \"semantic_type\": \"\",\n        \"description\": \"\"\n      }\n    }\n  ]\n}"
            }
          },
          "metadata": {},
          "execution_count": 40
        }
      ]
    },
    {
      "cell_type": "code",
      "execution_count": 41,
      "metadata": {
        "id": "wzoIM6yXE37j"
      },
      "outputs": [],
      "source": [
        "#pattern = r'(\\d{2}/\\d{2}/\\d{2})\\s(\\d{1,2}:\\d{2})'      #pattern is a regular expression (regex) which is used to separate date and time from the column time. (\\d{2}=2 digits,\\s=space,\\d{1,2}=1 or 2 digits)\n",
        "#df[['Date', 'Hour']] = df['Time'].str.extract(pattern) #creating 2 new columns to store date and time separately, from the existing 'time' column and extracting the date and time from pattern.\n",
        "#print(df.head(10))"
      ]
    },
    {
      "cell_type": "code",
      "execution_count": 42,
      "metadata": {
        "id": "uiEyRmRV-rhe"
      },
      "outputs": [],
      "source": [
        "#df=df.drop(columns=['Time']) #dropping the column time"
      ]
    },
    {
      "cell_type": "code",
      "execution_count": 43,
      "metadata": {
        "id": "ZDkhhkFbdayy",
        "colab": {
          "base_uri": "https://localhost:8080/"
        },
        "outputId": "1e9d33c9-f7b8-418c-b2c4-8484f1e695a7"
      },
      "outputs": [
        {
          "output_type": "stream",
          "name": "stdout",
          "text": [
            "(35040, 11)\n"
          ]
        }
      ],
      "source": [
        "print(df.shape)"
      ]
    },
    {
      "cell_type": "code",
      "execution_count": 44,
      "metadata": {
        "id": "sRMhvMceXIbh",
        "colab": {
          "base_uri": "https://localhost:8080/"
        },
        "outputId": "65b8c805-83d9-4236-c885-9eb096736744"
      },
      "outputs": [
        {
          "output_type": "stream",
          "name": "stdout",
          "text": [
            "4660452\n"
          ]
        }
      ],
      "source": [
        "data=df.to_string()\n",
        "print(len(data))"
      ]
    },
    {
      "cell_type": "code",
      "execution_count": 45,
      "metadata": {
        "id": "AabV1mP54Rwe",
        "colab": {
          "base_uri": "https://localhost:8080/",
          "height": 429
        },
        "outputId": "05574615-dc72-46d4-e1c9-581405d4955a"
      },
      "outputs": [
        {
          "output_type": "execute_result",
          "data": {
            "text/plain": [
              "Unnamed: 0    0\n",
              "Time          0\n",
              "Location      0\n",
              "Temp_2m       0\n",
              "RelHum_2m     0\n",
              "DP_2m         0\n",
              "WS_10m        0\n",
              "WS_100m       0\n",
              "WD_10m        0\n",
              "WD_100m       0\n",
              "WG_10m        0\n",
              "dtype: int64"
            ],
            "text/html": [
              "<div>\n",
              "<style scoped>\n",
              "    .dataframe tbody tr th:only-of-type {\n",
              "        vertical-align: middle;\n",
              "    }\n",
              "\n",
              "    .dataframe tbody tr th {\n",
              "        vertical-align: top;\n",
              "    }\n",
              "\n",
              "    .dataframe thead th {\n",
              "        text-align: right;\n",
              "    }\n",
              "</style>\n",
              "<table border=\"1\" class=\"dataframe\">\n",
              "  <thead>\n",
              "    <tr style=\"text-align: right;\">\n",
              "      <th></th>\n",
              "      <th>0</th>\n",
              "    </tr>\n",
              "  </thead>\n",
              "  <tbody>\n",
              "    <tr>\n",
              "      <th>Unnamed: 0</th>\n",
              "      <td>0</td>\n",
              "    </tr>\n",
              "    <tr>\n",
              "      <th>Time</th>\n",
              "      <td>0</td>\n",
              "    </tr>\n",
              "    <tr>\n",
              "      <th>Location</th>\n",
              "      <td>0</td>\n",
              "    </tr>\n",
              "    <tr>\n",
              "      <th>Temp_2m</th>\n",
              "      <td>0</td>\n",
              "    </tr>\n",
              "    <tr>\n",
              "      <th>RelHum_2m</th>\n",
              "      <td>0</td>\n",
              "    </tr>\n",
              "    <tr>\n",
              "      <th>DP_2m</th>\n",
              "      <td>0</td>\n",
              "    </tr>\n",
              "    <tr>\n",
              "      <th>WS_10m</th>\n",
              "      <td>0</td>\n",
              "    </tr>\n",
              "    <tr>\n",
              "      <th>WS_100m</th>\n",
              "      <td>0</td>\n",
              "    </tr>\n",
              "    <tr>\n",
              "      <th>WD_10m</th>\n",
              "      <td>0</td>\n",
              "    </tr>\n",
              "    <tr>\n",
              "      <th>WD_100m</th>\n",
              "      <td>0</td>\n",
              "    </tr>\n",
              "    <tr>\n",
              "      <th>WG_10m</th>\n",
              "      <td>0</td>\n",
              "    </tr>\n",
              "  </tbody>\n",
              "</table>\n",
              "</div><br><label><b>dtype:</b> int64</label>"
            ]
          },
          "metadata": {},
          "execution_count": 45
        }
      ],
      "source": [
        "df.isnull().sum()"
      ]
    },
    {
      "cell_type": "code",
      "source": [
        "print(df.isnull().values.any())"
      ],
      "metadata": {
        "id": "9JptuWCNoGmU",
        "colab": {
          "base_uri": "https://localhost:8080/"
        },
        "outputId": "86da8147-9872-460d-ba03-006ede88cb14"
      },
      "execution_count": 46,
      "outputs": [
        {
          "output_type": "stream",
          "name": "stdout",
          "text": [
            "False\n"
          ]
        }
      ]
    },
    {
      "cell_type": "code",
      "source": [
        "print(df['WS_100m'].min(), df['WS_100m'].max())"
      ],
      "metadata": {
        "id": "yFgA8rKSa2rq",
        "outputId": "59bf50dd-dc33-4da2-da40-be0fc34729ff",
        "colab": {
          "base_uri": "https://localhost:8080/"
        }
      },
      "execution_count": 47,
      "outputs": [
        {
          "output_type": "stream",
          "name": "stdout",
          "text": [
            "0.107799417 22.84779942\n"
          ]
        }
      ]
    },
    {
      "cell_type": "code",
      "source": [
        "from sklearn.preprocessing import MinMaxScaler\n",
        "scaler = MinMaxScaler()\n",
        "numerical_columns = ['Temp_2m', 'RelHum_2m', 'DP_2m', 'WS_10m', 'WS_100m', 'WD_10m', 'WD_100m', 'WG_10m']\n",
        "df[numerical_columns] = scaler.fit_transform(df[numerical_columns])"
      ],
      "metadata": {
        "id": "PlRyFZYTuzBc"
      },
      "execution_count": 48,
      "outputs": []
    },
    {
      "cell_type": "code",
      "source": [
        "print(df.tail(5))"
      ],
      "metadata": {
        "id": "V4Nf5NXhbkmL",
        "colab": {
          "base_uri": "https://localhost:8080/"
        },
        "outputId": "00539916-6d77-47d9-fb8e-6a4ddf94e301"
      },
      "execution_count": 49,
      "outputs": [
        {
          "output_type": "stream",
          "name": "stdout",
          "text": [
            "       Unnamed: 0            Time  Location   Temp_2m  RelHum_2m     DP_2m  \\\n",
            "35035       43795  31/12/17 19:00         4  0.406542   0.928571  0.521296   \n",
            "35036       43796  31/12/17 20:00         4  0.404984   0.904762  0.513889   \n",
            "35037       43797  31/12/17 21:00         4  0.401869   0.880952  0.507407   \n",
            "35038       43798  31/12/17 22:00         4  0.401869   0.869048  0.503704   \n",
            "35039       43799  31/12/17 23:00         4  0.401869   0.857143  0.500926   \n",
            "\n",
            "         WS_10m   WS_100m    WD_10m   WD_100m    WG_10m  \n",
            "35035  0.260898  0.288478  0.008357  0.022222  0.268293  \n",
            "35036  0.305791  0.326297  0.000000  0.013889  0.257840  \n",
            "35037  0.299935  0.328496  0.008357  0.022222  0.257840  \n",
            "35038  0.299284  0.322779  0.002786  0.016667  0.254355  \n",
            "35039  0.302537  0.337291  0.022284  0.033333  0.254355  \n"
          ]
        }
      ]
    },
    {
      "cell_type": "code",
      "source": [
        "print(df.head(10))"
      ],
      "metadata": {
        "id": "JAET77R06Ies",
        "colab": {
          "base_uri": "https://localhost:8080/"
        },
        "outputId": "96c3630f-5691-40b3-b11a-9b6308b6f576"
      },
      "execution_count": 50,
      "outputs": [
        {
          "output_type": "stream",
          "name": "stdout",
          "text": [
            "   Unnamed: 0           Time  Location   Temp_2m  RelHum_2m     DP_2m  \\\n",
            "0       35040  01/01/17 0:00         1  0.362928   0.880952  0.461111   \n",
            "1       35041  01/01/17 1:00         1  0.359034   0.892857  0.457407   \n",
            "2       35042  01/01/17 2:00         1  0.362150   0.869048  0.457407   \n",
            "3       35043  01/01/17 3:00         1  0.368380   0.833333  0.456481   \n",
            "4       35044  01/01/17 4:00         1  0.373832   0.797619  0.456481   \n",
            "5       35045  01/01/17 5:00         1  0.375389   0.809524  0.460185   \n",
            "6       35046  01/01/17 6:00         1  0.356698   0.880952  0.452778   \n",
            "7       35047  01/01/17 7:00         1  0.377726   0.857143  0.472222   \n",
            "8       35048  01/01/17 8:00         1  0.404984   0.773810  0.487963   \n",
            "9       35049  01/01/17 9:00         1  0.445483   0.690476  0.512963   \n",
            "\n",
            "     WS_10m   WS_100m    WD_10m   WD_100m    WG_10m  \n",
            "0  0.059857  0.033421  0.534819  0.650000  0.041812  \n",
            "1  0.097593  0.079156  0.509749  0.550000  0.080139  \n",
            "2  0.109304  0.121372  0.451253  0.466667  0.080139  \n",
            "3  0.140534  0.170624  0.462396  0.450000  0.087108  \n",
            "4  0.136630  0.173263  0.506964  0.475000  0.094077  \n",
            "5  0.136630  0.168426  0.490251  0.480556  0.080139  \n",
            "6  0.156148  0.152595  0.373259  0.450000  0.108014  \n",
            "7  0.144437  0.160950  0.225627  0.319444  0.104530  \n",
            "8  0.191282  0.237027  0.220056  0.277778  0.149826  \n",
            "9  0.216005  0.272208  0.292479  0.300000  0.191638  \n"
          ]
        }
      ]
    },
    {
      "cell_type": "code",
      "source": [
        "df=df.drop(['Unnamed: 0'], axis=1)"
      ],
      "metadata": {
        "id": "poqrRDhV5xTh"
      },
      "execution_count": 51,
      "outputs": []
    },
    {
      "cell_type": "code",
      "source": [
        "df.head(7)"
      ],
      "metadata": {
        "colab": {
          "base_uri": "https://localhost:8080/",
          "height": 269
        },
        "id": "2Edm-6RI8Gs0",
        "outputId": "e1246c1d-61fb-4966-a95b-02c6369bac5c"
      },
      "execution_count": 52,
      "outputs": [
        {
          "output_type": "execute_result",
          "data": {
            "text/plain": [
              "            Time  Location   Temp_2m  RelHum_2m     DP_2m    WS_10m   WS_100m  \\\n",
              "0  01/01/17 0:00         1  0.362928   0.880952  0.461111  0.059857  0.033421   \n",
              "1  01/01/17 1:00         1  0.359034   0.892857  0.457407  0.097593  0.079156   \n",
              "2  01/01/17 2:00         1  0.362150   0.869048  0.457407  0.109304  0.121372   \n",
              "3  01/01/17 3:00         1  0.368380   0.833333  0.456481  0.140534  0.170624   \n",
              "4  01/01/17 4:00         1  0.373832   0.797619  0.456481  0.136630  0.173263   \n",
              "5  01/01/17 5:00         1  0.375389   0.809524  0.460185  0.136630  0.168426   \n",
              "6  01/01/17 6:00         1  0.356698   0.880952  0.452778  0.156148  0.152595   \n",
              "\n",
              "     WD_10m   WD_100m    WG_10m  \n",
              "0  0.534819  0.650000  0.041812  \n",
              "1  0.509749  0.550000  0.080139  \n",
              "2  0.451253  0.466667  0.080139  \n",
              "3  0.462396  0.450000  0.087108  \n",
              "4  0.506964  0.475000  0.094077  \n",
              "5  0.490251  0.480556  0.080139  \n",
              "6  0.373259  0.450000  0.108014  "
            ],
            "text/html": [
              "\n",
              "  <div id=\"df-2a02b0f9-6b69-4e28-9b72-bfbd986378bf\" class=\"colab-df-container\">\n",
              "    <div>\n",
              "<style scoped>\n",
              "    .dataframe tbody tr th:only-of-type {\n",
              "        vertical-align: middle;\n",
              "    }\n",
              "\n",
              "    .dataframe tbody tr th {\n",
              "        vertical-align: top;\n",
              "    }\n",
              "\n",
              "    .dataframe thead th {\n",
              "        text-align: right;\n",
              "    }\n",
              "</style>\n",
              "<table border=\"1\" class=\"dataframe\">\n",
              "  <thead>\n",
              "    <tr style=\"text-align: right;\">\n",
              "      <th></th>\n",
              "      <th>Time</th>\n",
              "      <th>Location</th>\n",
              "      <th>Temp_2m</th>\n",
              "      <th>RelHum_2m</th>\n",
              "      <th>DP_2m</th>\n",
              "      <th>WS_10m</th>\n",
              "      <th>WS_100m</th>\n",
              "      <th>WD_10m</th>\n",
              "      <th>WD_100m</th>\n",
              "      <th>WG_10m</th>\n",
              "    </tr>\n",
              "  </thead>\n",
              "  <tbody>\n",
              "    <tr>\n",
              "      <th>0</th>\n",
              "      <td>01/01/17 0:00</td>\n",
              "      <td>1</td>\n",
              "      <td>0.362928</td>\n",
              "      <td>0.880952</td>\n",
              "      <td>0.461111</td>\n",
              "      <td>0.059857</td>\n",
              "      <td>0.033421</td>\n",
              "      <td>0.534819</td>\n",
              "      <td>0.650000</td>\n",
              "      <td>0.041812</td>\n",
              "    </tr>\n",
              "    <tr>\n",
              "      <th>1</th>\n",
              "      <td>01/01/17 1:00</td>\n",
              "      <td>1</td>\n",
              "      <td>0.359034</td>\n",
              "      <td>0.892857</td>\n",
              "      <td>0.457407</td>\n",
              "      <td>0.097593</td>\n",
              "      <td>0.079156</td>\n",
              "      <td>0.509749</td>\n",
              "      <td>0.550000</td>\n",
              "      <td>0.080139</td>\n",
              "    </tr>\n",
              "    <tr>\n",
              "      <th>2</th>\n",
              "      <td>01/01/17 2:00</td>\n",
              "      <td>1</td>\n",
              "      <td>0.362150</td>\n",
              "      <td>0.869048</td>\n",
              "      <td>0.457407</td>\n",
              "      <td>0.109304</td>\n",
              "      <td>0.121372</td>\n",
              "      <td>0.451253</td>\n",
              "      <td>0.466667</td>\n",
              "      <td>0.080139</td>\n",
              "    </tr>\n",
              "    <tr>\n",
              "      <th>3</th>\n",
              "      <td>01/01/17 3:00</td>\n",
              "      <td>1</td>\n",
              "      <td>0.368380</td>\n",
              "      <td>0.833333</td>\n",
              "      <td>0.456481</td>\n",
              "      <td>0.140534</td>\n",
              "      <td>0.170624</td>\n",
              "      <td>0.462396</td>\n",
              "      <td>0.450000</td>\n",
              "      <td>0.087108</td>\n",
              "    </tr>\n",
              "    <tr>\n",
              "      <th>4</th>\n",
              "      <td>01/01/17 4:00</td>\n",
              "      <td>1</td>\n",
              "      <td>0.373832</td>\n",
              "      <td>0.797619</td>\n",
              "      <td>0.456481</td>\n",
              "      <td>0.136630</td>\n",
              "      <td>0.173263</td>\n",
              "      <td>0.506964</td>\n",
              "      <td>0.475000</td>\n",
              "      <td>0.094077</td>\n",
              "    </tr>\n",
              "    <tr>\n",
              "      <th>5</th>\n",
              "      <td>01/01/17 5:00</td>\n",
              "      <td>1</td>\n",
              "      <td>0.375389</td>\n",
              "      <td>0.809524</td>\n",
              "      <td>0.460185</td>\n",
              "      <td>0.136630</td>\n",
              "      <td>0.168426</td>\n",
              "      <td>0.490251</td>\n",
              "      <td>0.480556</td>\n",
              "      <td>0.080139</td>\n",
              "    </tr>\n",
              "    <tr>\n",
              "      <th>6</th>\n",
              "      <td>01/01/17 6:00</td>\n",
              "      <td>1</td>\n",
              "      <td>0.356698</td>\n",
              "      <td>0.880952</td>\n",
              "      <td>0.452778</td>\n",
              "      <td>0.156148</td>\n",
              "      <td>0.152595</td>\n",
              "      <td>0.373259</td>\n",
              "      <td>0.450000</td>\n",
              "      <td>0.108014</td>\n",
              "    </tr>\n",
              "  </tbody>\n",
              "</table>\n",
              "</div>\n",
              "    <div class=\"colab-df-buttons\">\n",
              "\n",
              "  <div class=\"colab-df-container\">\n",
              "    <button class=\"colab-df-convert\" onclick=\"convertToInteractive('df-2a02b0f9-6b69-4e28-9b72-bfbd986378bf')\"\n",
              "            title=\"Convert this dataframe to an interactive table.\"\n",
              "            style=\"display:none;\">\n",
              "\n",
              "  <svg xmlns=\"http://www.w3.org/2000/svg\" height=\"24px\" viewBox=\"0 -960 960 960\">\n",
              "    <path d=\"M120-120v-720h720v720H120Zm60-500h600v-160H180v160Zm220 220h160v-160H400v160Zm0 220h160v-160H400v160ZM180-400h160v-160H180v160Zm440 0h160v-160H620v160ZM180-180h160v-160H180v160Zm440 0h160v-160H620v160Z\"/>\n",
              "  </svg>\n",
              "    </button>\n",
              "\n",
              "  <style>\n",
              "    .colab-df-container {\n",
              "      display:flex;\n",
              "      gap: 12px;\n",
              "    }\n",
              "\n",
              "    .colab-df-convert {\n",
              "      background-color: #E8F0FE;\n",
              "      border: none;\n",
              "      border-radius: 50%;\n",
              "      cursor: pointer;\n",
              "      display: none;\n",
              "      fill: #1967D2;\n",
              "      height: 32px;\n",
              "      padding: 0 0 0 0;\n",
              "      width: 32px;\n",
              "    }\n",
              "\n",
              "    .colab-df-convert:hover {\n",
              "      background-color: #E2EBFA;\n",
              "      box-shadow: 0px 1px 2px rgba(60, 64, 67, 0.3), 0px 1px 3px 1px rgba(60, 64, 67, 0.15);\n",
              "      fill: #174EA6;\n",
              "    }\n",
              "\n",
              "    .colab-df-buttons div {\n",
              "      margin-bottom: 4px;\n",
              "    }\n",
              "\n",
              "    [theme=dark] .colab-df-convert {\n",
              "      background-color: #3B4455;\n",
              "      fill: #D2E3FC;\n",
              "    }\n",
              "\n",
              "    [theme=dark] .colab-df-convert:hover {\n",
              "      background-color: #434B5C;\n",
              "      box-shadow: 0px 1px 3px 1px rgba(0, 0, 0, 0.15);\n",
              "      filter: drop-shadow(0px 1px 2px rgba(0, 0, 0, 0.3));\n",
              "      fill: #FFFFFF;\n",
              "    }\n",
              "  </style>\n",
              "\n",
              "    <script>\n",
              "      const buttonEl =\n",
              "        document.querySelector('#df-2a02b0f9-6b69-4e28-9b72-bfbd986378bf button.colab-df-convert');\n",
              "      buttonEl.style.display =\n",
              "        google.colab.kernel.accessAllowed ? 'block' : 'none';\n",
              "\n",
              "      async function convertToInteractive(key) {\n",
              "        const element = document.querySelector('#df-2a02b0f9-6b69-4e28-9b72-bfbd986378bf');\n",
              "        const dataTable =\n",
              "          await google.colab.kernel.invokeFunction('convertToInteractive',\n",
              "                                                    [key], {});\n",
              "        if (!dataTable) return;\n",
              "\n",
              "        const docLinkHtml = 'Like what you see? Visit the ' +\n",
              "          '<a target=\"_blank\" href=https://colab.research.google.com/notebooks/data_table.ipynb>data table notebook</a>'\n",
              "          + ' to learn more about interactive tables.';\n",
              "        element.innerHTML = '';\n",
              "        dataTable['output_type'] = 'display_data';\n",
              "        await google.colab.output.renderOutput(dataTable, element);\n",
              "        const docLink = document.createElement('div');\n",
              "        docLink.innerHTML = docLinkHtml;\n",
              "        element.appendChild(docLink);\n",
              "      }\n",
              "    </script>\n",
              "  </div>\n",
              "\n",
              "\n",
              "<div id=\"df-9aa841cc-2dbb-489c-b662-b3c301e1b517\">\n",
              "  <button class=\"colab-df-quickchart\" onclick=\"quickchart('df-9aa841cc-2dbb-489c-b662-b3c301e1b517')\"\n",
              "            title=\"Suggest charts\"\n",
              "            style=\"display:none;\">\n",
              "\n",
              "<svg xmlns=\"http://www.w3.org/2000/svg\" height=\"24px\"viewBox=\"0 0 24 24\"\n",
              "     width=\"24px\">\n",
              "    <g>\n",
              "        <path d=\"M19 3H5c-1.1 0-2 .9-2 2v14c0 1.1.9 2 2 2h14c1.1 0 2-.9 2-2V5c0-1.1-.9-2-2-2zM9 17H7v-7h2v7zm4 0h-2V7h2v10zm4 0h-2v-4h2v4z\"/>\n",
              "    </g>\n",
              "</svg>\n",
              "  </button>\n",
              "\n",
              "<style>\n",
              "  .colab-df-quickchart {\n",
              "      --bg-color: #E8F0FE;\n",
              "      --fill-color: #1967D2;\n",
              "      --hover-bg-color: #E2EBFA;\n",
              "      --hover-fill-color: #174EA6;\n",
              "      --disabled-fill-color: #AAA;\n",
              "      --disabled-bg-color: #DDD;\n",
              "  }\n",
              "\n",
              "  [theme=dark] .colab-df-quickchart {\n",
              "      --bg-color: #3B4455;\n",
              "      --fill-color: #D2E3FC;\n",
              "      --hover-bg-color: #434B5C;\n",
              "      --hover-fill-color: #FFFFFF;\n",
              "      --disabled-bg-color: #3B4455;\n",
              "      --disabled-fill-color: #666;\n",
              "  }\n",
              "\n",
              "  .colab-df-quickchart {\n",
              "    background-color: var(--bg-color);\n",
              "    border: none;\n",
              "    border-radius: 50%;\n",
              "    cursor: pointer;\n",
              "    display: none;\n",
              "    fill: var(--fill-color);\n",
              "    height: 32px;\n",
              "    padding: 0;\n",
              "    width: 32px;\n",
              "  }\n",
              "\n",
              "  .colab-df-quickchart:hover {\n",
              "    background-color: var(--hover-bg-color);\n",
              "    box-shadow: 0 1px 2px rgba(60, 64, 67, 0.3), 0 1px 3px 1px rgba(60, 64, 67, 0.15);\n",
              "    fill: var(--button-hover-fill-color);\n",
              "  }\n",
              "\n",
              "  .colab-df-quickchart-complete:disabled,\n",
              "  .colab-df-quickchart-complete:disabled:hover {\n",
              "    background-color: var(--disabled-bg-color);\n",
              "    fill: var(--disabled-fill-color);\n",
              "    box-shadow: none;\n",
              "  }\n",
              "\n",
              "  .colab-df-spinner {\n",
              "    border: 2px solid var(--fill-color);\n",
              "    border-color: transparent;\n",
              "    border-bottom-color: var(--fill-color);\n",
              "    animation:\n",
              "      spin 1s steps(1) infinite;\n",
              "  }\n",
              "\n",
              "  @keyframes spin {\n",
              "    0% {\n",
              "      border-color: transparent;\n",
              "      border-bottom-color: var(--fill-color);\n",
              "      border-left-color: var(--fill-color);\n",
              "    }\n",
              "    20% {\n",
              "      border-color: transparent;\n",
              "      border-left-color: var(--fill-color);\n",
              "      border-top-color: var(--fill-color);\n",
              "    }\n",
              "    30% {\n",
              "      border-color: transparent;\n",
              "      border-left-color: var(--fill-color);\n",
              "      border-top-color: var(--fill-color);\n",
              "      border-right-color: var(--fill-color);\n",
              "    }\n",
              "    40% {\n",
              "      border-color: transparent;\n",
              "      border-right-color: var(--fill-color);\n",
              "      border-top-color: var(--fill-color);\n",
              "    }\n",
              "    60% {\n",
              "      border-color: transparent;\n",
              "      border-right-color: var(--fill-color);\n",
              "    }\n",
              "    80% {\n",
              "      border-color: transparent;\n",
              "      border-right-color: var(--fill-color);\n",
              "      border-bottom-color: var(--fill-color);\n",
              "    }\n",
              "    90% {\n",
              "      border-color: transparent;\n",
              "      border-bottom-color: var(--fill-color);\n",
              "    }\n",
              "  }\n",
              "</style>\n",
              "\n",
              "  <script>\n",
              "    async function quickchart(key) {\n",
              "      const quickchartButtonEl =\n",
              "        document.querySelector('#' + key + ' button');\n",
              "      quickchartButtonEl.disabled = true;  // To prevent multiple clicks.\n",
              "      quickchartButtonEl.classList.add('colab-df-spinner');\n",
              "      try {\n",
              "        const charts = await google.colab.kernel.invokeFunction(\n",
              "            'suggestCharts', [key], {});\n",
              "      } catch (error) {\n",
              "        console.error('Error during call to suggestCharts:', error);\n",
              "      }\n",
              "      quickchartButtonEl.classList.remove('colab-df-spinner');\n",
              "      quickchartButtonEl.classList.add('colab-df-quickchart-complete');\n",
              "    }\n",
              "    (() => {\n",
              "      let quickchartButtonEl =\n",
              "        document.querySelector('#df-9aa841cc-2dbb-489c-b662-b3c301e1b517 button');\n",
              "      quickchartButtonEl.style.display =\n",
              "        google.colab.kernel.accessAllowed ? 'block' : 'none';\n",
              "    })();\n",
              "  </script>\n",
              "</div>\n",
              "\n",
              "    </div>\n",
              "  </div>\n"
            ],
            "application/vnd.google.colaboratory.intrinsic+json": {
              "type": "dataframe",
              "variable_name": "df",
              "summary": "{\n  \"name\": \"df\",\n  \"rows\": 35040,\n  \"fields\": [\n    {\n      \"column\": \"Time\",\n      \"properties\": {\n        \"dtype\": \"object\",\n        \"num_unique_values\": 8760,\n        \"samples\": [\n          \"10/09/17 8:00\",\n          \"20/08/17 12:00\",\n          \"07/09/17 14:00\"\n        ],\n        \"semantic_type\": \"\",\n        \"description\": \"\"\n      }\n    },\n    {\n      \"column\": \"Location\",\n      \"properties\": {\n        \"dtype\": \"number\",\n        \"std\": 1,\n        \"min\": 1,\n        \"max\": 4,\n        \"num_unique_values\": 4,\n        \"samples\": [\n          2,\n          4,\n          1\n        ],\n        \"semantic_type\": \"\",\n        \"description\": \"\"\n      }\n    },\n    {\n      \"column\": \"Temp_2m\",\n      \"properties\": {\n        \"dtype\": \"number\",\n        \"std\": 0.17302006560667443,\n        \"min\": 0.0,\n        \"max\": 1.0,\n        \"num_unique_values\": 1156,\n        \"samples\": [\n          0.18535825551173807,\n          0.2313084112821353,\n          0.4042056075395959\n        ],\n        \"semantic_type\": \"\",\n        \"description\": \"\"\n      }\n    },\n    {\n      \"column\": \"RelHum_2m\",\n      \"properties\": {\n        \"dtype\": \"number\",\n        \"std\": 0.21881009033895268,\n        \"min\": 0.0,\n        \"max\": 1.0,\n        \"num_unique_values\": 85,\n        \"samples\": [\n          0.0714285714285714,\n          0.8809523809523809,\n          0.09523809523809523\n        ],\n        \"semantic_type\": \"\",\n        \"description\": \"\"\n      }\n    },\n    {\n      \"column\": \"DP_2m\",\n      \"properties\": {\n        \"dtype\": \"number\",\n        \"std\": 0.1918745431703818,\n        \"min\": 0.0,\n        \"max\": 1.0,\n        \"num_unique_values\": 1048,\n        \"samples\": [\n          0.42499999999999993,\n          0.23240740743518518,\n          0.1185185185185185\n        ],\n        \"semantic_type\": \"\",\n        \"description\": \"\"\n      }\n    },\n    {\n      \"column\": \"WS_10m\",\n      \"properties\": {\n        \"dtype\": \"number\",\n        \"std\": 0.12681741479275074,\n        \"min\": 0.0,\n        \"max\": 0.9999999999999998,\n        \"num_unique_values\": 1068,\n        \"samples\": [\n          0.39882888741712236,\n          0.11711125568528877,\n          0.5875081326878654\n        ],\n        \"semantic_type\": \"\",\n        \"description\": \"\"\n      }\n    },\n    {\n      \"column\": \"WS_100m\",\n      \"properties\": {\n        \"dtype\": \"number\",\n        \"std\": 0.13140591186349534,\n        \"min\": 0.0,\n        \"max\": 1.0,\n        \"num_unique_values\": 1574,\n        \"samples\": [\n          0.4393139842428345,\n          0.2867194370773897,\n          0.7159190853497028\n        ],\n        \"semantic_type\": \"\",\n        \"description\": \"\"\n      }\n    },\n    {\n      \"column\": \"WD_10m\",\n      \"properties\": {\n        \"dtype\": \"number\",\n        \"std\": 0.2725818554963735,\n        \"min\": 0.0,\n        \"max\": 1.0,\n        \"num_unique_values\": 360,\n        \"samples\": [\n          0.4651810585420038,\n          0.3370473538176923,\n          0.40947075214012923\n        ],\n        \"semantic_type\": \"\",\n        \"description\": \"\"\n      }\n    },\n    {\n      \"column\": \"WD_100m\",\n      \"properties\": {\n        \"dtype\": \"number\",\n        \"std\": 0.2749398644998579,\n        \"min\": 0.0,\n        \"max\": 1.0,\n        \"num_unique_values\": 361,\n        \"samples\": [\n          0.6055555555555556,\n          0.9,\n          0.23611111111111116\n        ],\n        \"semantic_type\": \"\",\n        \"description\": \"\"\n      }\n    },\n    {\n      \"column\": \"WG_10m\",\n      \"properties\": {\n        \"dtype\": \"number\",\n        \"std\": 0.12448973456002353,\n        \"min\": 0.0,\n        \"max\": 0.9999999999999998,\n        \"num_unique_values\": 250,\n        \"samples\": [\n          0.5226480835571634,\n          0.14982578399300703,\n          0.3066202091019679\n        ],\n        \"semantic_type\": \"\",\n        \"description\": \"\"\n      }\n    }\n  ]\n}"
            }
          },
          "metadata": {},
          "execution_count": 52
        }
      ]
    },
    {
      "cell_type": "code",
      "source": [
        "print(df.columns)  # List all columns\n",
        "print(df.head())   # Show first 5 rows\n",
        "print(df.info())   # Check data types and missing values"
      ],
      "metadata": {
        "id": "YmX9x5RvPTzu",
        "outputId": "48232730-9e8b-4579-beb5-b5276ec7742d",
        "colab": {
          "base_uri": "https://localhost:8080/"
        }
      },
      "execution_count": 53,
      "outputs": [
        {
          "output_type": "stream",
          "name": "stdout",
          "text": [
            "Index(['Time', 'Location', 'Temp_2m', 'RelHum_2m', 'DP_2m', 'WS_10m',\n",
            "       'WS_100m', 'WD_10m', 'WD_100m', 'WG_10m'],\n",
            "      dtype='object')\n",
            "            Time  Location   Temp_2m  RelHum_2m     DP_2m    WS_10m   WS_100m  \\\n",
            "0  01/01/17 0:00         1  0.362928   0.880952  0.461111  0.059857  0.033421   \n",
            "1  01/01/17 1:00         1  0.359034   0.892857  0.457407  0.097593  0.079156   \n",
            "2  01/01/17 2:00         1  0.362150   0.869048  0.457407  0.109304  0.121372   \n",
            "3  01/01/17 3:00         1  0.368380   0.833333  0.456481  0.140534  0.170624   \n",
            "4  01/01/17 4:00         1  0.373832   0.797619  0.456481  0.136630  0.173263   \n",
            "\n",
            "     WD_10m   WD_100m    WG_10m  \n",
            "0  0.534819  0.650000  0.041812  \n",
            "1  0.509749  0.550000  0.080139  \n",
            "2  0.451253  0.466667  0.080139  \n",
            "3  0.462396  0.450000  0.087108  \n",
            "4  0.506964  0.475000  0.094077  \n",
            "<class 'pandas.core.frame.DataFrame'>\n",
            "RangeIndex: 35040 entries, 0 to 35039\n",
            "Data columns (total 10 columns):\n",
            " #   Column     Non-Null Count  Dtype  \n",
            "---  ------     --------------  -----  \n",
            " 0   Time       35040 non-null  object \n",
            " 1   Location   35040 non-null  int64  \n",
            " 2   Temp_2m    35040 non-null  float64\n",
            " 3   RelHum_2m  35040 non-null  float64\n",
            " 4   DP_2m      35040 non-null  float64\n",
            " 5   WS_10m     35040 non-null  float64\n",
            " 6   WS_100m    35040 non-null  float64\n",
            " 7   WD_10m     35040 non-null  float64\n",
            " 8   WD_100m    35040 non-null  float64\n",
            " 9   WG_10m     35040 non-null  float64\n",
            "dtypes: float64(8), int64(1), object(1)\n",
            "memory usage: 2.7+ MB\n",
            "None\n"
          ]
        }
      ]
    },
    {
      "cell_type": "code",
      "source": [
        "#creating a power_output column\n",
        "#The power generated by a wind turbine is calculated as: P=(1/2)*(ρ=Air Density)*(A=Rotor Swept Area)*(V^3=Wind Speed)*(Cp=Power Coefficient)\n",
        "# Assumptions: Air density ρ = 1.225 kg/m³, Rotor Area A = 100 m², Power Coefficient Cp = 0.4\n",
        "df['Power_Output'] = 0.5 * 1.225 * 100 * (df['WS_100m'] ** 3) * 0.4"
      ],
      "metadata": {
        "id": "uD003UFWQ7Jw"
      },
      "execution_count": 54,
      "outputs": []
    },
    {
      "cell_type": "code",
      "source": [
        "print(df.columns)"
      ],
      "metadata": {
        "id": "XYkpp-usT4Ub",
        "outputId": "f5ca37a3-80d4-4283-afe7-88346946a112",
        "colab": {
          "base_uri": "https://localhost:8080/"
        }
      },
      "execution_count": 55,
      "outputs": [
        {
          "output_type": "stream",
          "name": "stdout",
          "text": [
            "Index(['Time', 'Location', 'Temp_2m', 'RelHum_2m', 'DP_2m', 'WS_10m',\n",
            "       'WS_100m', 'WD_10m', 'WD_100m', 'WG_10m', 'Power_Output'],\n",
            "      dtype='object')\n"
          ]
        }
      ]
    },
    {
      "cell_type": "code",
      "source": [
        "print(df[['WS_100m', 'Power_Output']].head())  # Check the relation between wind speed and power"
      ],
      "metadata": {
        "id": "cGo8JSSrT9Zc",
        "outputId": "a913110a-8336-47db-c9dd-3da8c9713ea6",
        "colab": {
          "base_uri": "https://localhost:8080/"
        }
      },
      "execution_count": 56,
      "outputs": [
        {
          "output_type": "stream",
          "name": "stdout",
          "text": [
            "    WS_100m  Power_Output\n",
            "0  0.033421      0.000915\n",
            "1  0.079156      0.012151\n",
            "2  0.121372      0.043805\n",
            "3  0.170624      0.121700\n",
            "4  0.173263      0.127433\n"
          ]
        }
      ]
    },
    {
      "cell_type": "code",
      "source": [
        "print(df['WS_100m'].describe())\n"
      ],
      "metadata": {
        "id": "iix7ALP1UBtn",
        "outputId": "d2309396-64d1-4480-d880-d1082403819a",
        "colab": {
          "base_uri": "https://localhost:8080/"
        }
      },
      "execution_count": 57,
      "outputs": [
        {
          "output_type": "stream",
          "name": "stdout",
          "text": [
            "count    35040.000000\n",
            "mean         0.291590\n",
            "std          0.131406\n",
            "min          0.000000\n",
            "25%          0.197010\n",
            "50%          0.283641\n",
            "75%          0.375110\n",
            "max          1.000000\n",
            "Name: WS_100m, dtype: float64\n"
          ]
        }
      ]
    },
    {
      "cell_type": "code",
      "source": [],
      "metadata": {
        "id": "j9xw7lT-YQmw"
      },
      "execution_count": 57,
      "outputs": []
    },
    {
      "cell_type": "code",
      "source": [
        "original_min_WS = 0.107799417\n",
        "original_max_WS = 22.84779942\n",
        "# Reverse scaling to get actual wind speeds\n",
        "df['WS_100m_actual'] = df['WS_100m'] * (original_max_WS - original_min_WS) + original_min_WS"
      ],
      "metadata": {
        "id": "8ECe_OQsVhTN"
      },
      "execution_count": 62,
      "outputs": []
    },
    {
      "cell_type": "code",
      "source": [
        "# Constants\n",
        "air_density = 1.225  # kg/m³\n",
        "rotor_area = 100  # m² (Assumed)\n",
        "power_coefficient = 0.4  # Typical value\n",
        "\n",
        "# Calculate Power Output\n",
        "df['Power_Output'] = 0.5 * air_density * rotor_area * (df['WS_100m_actual'] ** 3) * power_coefficient\n"
      ],
      "metadata": {
        "id": "x1hLTHIvVkJT"
      },
      "execution_count": 63,
      "outputs": []
    },
    {
      "cell_type": "code",
      "source": [
        "print(df[['WS_100m_actual', 'Power_Output']].head())\n"
      ],
      "metadata": {
        "id": "WCvwg3v2VoY4",
        "outputId": "00115238-146c-40e7-dcda-8a08a5c87f8f",
        "colab": {
          "base_uri": "https://localhost:8080/"
        }
      },
      "execution_count": 64,
      "outputs": [
        {
          "output_type": "stream",
          "name": "stdout",
          "text": [
            "   WS_100m_actual  Power_Output\n",
            "0        0.867799     16.011210\n",
            "1        1.907799    170.123465\n",
            "2        2.867799    577.846385\n",
            "3        3.987799   1553.695833\n",
            "4        4.047799   1624.886517\n"
          ]
        }
      ]
    },
    {
      "cell_type": "code",
      "source": [
        "import matplotlib.pyplot as plt\n",
        "\n",
        "plt.scatter(df['WS_100m_actual'], df['Power_Output'], alpha=0.5)\n",
        "plt.xlabel('Wind Speed at 100m (m/s)')\n",
        "plt.ylabel('Power Output (kW)')\n",
        "plt.title('Wind Speed vs Power Output')\n",
        "plt.show()"
      ],
      "metadata": {
        "id": "DkowvmxKVpW9",
        "outputId": "0a486770-d3e0-4209-aa4b-b2f1fc6ca257",
        "colab": {
          "base_uri": "https://localhost:8080/",
          "height": 472
        }
      },
      "execution_count": 65,
      "outputs": [
        {
          "output_type": "display_data",
          "data": {
            "text/plain": [
              "<Figure size 640x480 with 1 Axes>"
            ],
            "image/png": "[encoded data removed]"
          },
          "metadata": {}
        }
      ]
    }
  ],
  "metadata": {
    "colab": {
      "provenance": [],
      "authorship_tag": "ABX9TyMlTUHhWiDPAOlhLrrIxpXC",
      "include_colab_link": true
    },
    "kernelspec": {
      "display_name": "Python 3",
      "name": "python3"
    },
    "language_info": {
      "name": "python"
    }
  },
  "nbformat": 4,
  "nbformat_minor": 0
}